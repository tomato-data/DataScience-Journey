{
 "cells": [
  {
   "cell_type": "code",
   "execution_count": 1,
   "metadata": {},
   "outputs": [],
   "source": [
    "import numpy as np\n",
    "\n",
    "class Perceptron(object):\n",
    "    def __init__(self, no_of_inputs, iterations=100, learning_rate=0.01):\n",
    "        # 수렴까지의 반복 횟수\n",
    "\n",
    "        self.iterations = iterations\n",
    "        self.learning_rate = learning_rate\n",
    "\n",
    "        # 가중치 (바이어스 텀 포함)\n",
    "        self.weights = np.zeros(no_of_inputs + 1)\n",
    "\n",
    "    def predict(self, inputs):\n",
    "        # 내적을 이용한 가중 합 계산, 활성화 함수는 step function\n",
    "        summation = np.dot(inputs, self.weights[1:]) + self.weights[0]\n",
    "        return 1 if summation > 0 else 0\n",
    "\n",
    "    def train(self, training_inputs, labels):\n",
    "        # 학습 -> 파라미터 업데이트\n",
    "        for _ in range(self.iterations):\n",
    "\n",
    "            for inputs, label in zip(training_inputs, labels):\n",
    "\n",
    "                prediction = self.predict(inputs)\n",
    "                error = label - prediction\n",
    "\n",
    "                self.weights[1:] += self.learning_rate * error * inputs\n",
    "                self.weights[0] += self.learning_rate * error\n",
    "\n",
    "#                 if _ % 10 == 0:\n",
    "#                     print(self.weights[1:], self.weights[0])"
   ]
  },
  {
   "cell_type": "code",
   "execution_count": 2,
   "metadata": {},
   "outputs": [],
   "source": [
    "# OR 문제를 위한 훈련 데이터와 레이블\n",
    "training_inputs_or = np.array([[0, 0], [0, 1], [1, 0], [1, 1]])\n",
    "labels_or = np.array([0, 1, 1, 1])\n",
    "\n",
    "perceptron_or = Perceptron(2)\n",
    "perceptron_or.train(training_inputs_or, labels_or)"
   ]
  },
  {
   "cell_type": "code",
   "execution_count": 3,
   "metadata": {},
   "outputs": [],
   "source": [
    "# AND 문제를 위한 훈련 데이터와 레이블\n",
    "training_inputs_and = np.array([[0, 0], [0, 1], [1, 0], [1, 1]])\n",
    "labels_and = np.array([0, 0, 0, 1])\n",
    "\n",
    "perceptron_and = Perceptron(2)\n",
    "perceptron_and.train(training_inputs_and, labels_and)"
   ]
  },
  {
   "cell_type": "code",
   "execution_count": 4,
   "metadata": {},
   "outputs": [],
   "source": [
    "# NAND 문제를 위한 훈련 데이터와 레이블\n",
    "training_inputs_nand = np.array([[0, 0], [0, 1], [1, 0], [1, 1]])\n",
    "labels_nand = np.array([1, 1, 1, 0])\n",
    "\n",
    "perceptron_nand = Perceptron(2)\n",
    "perceptron_nand.train(training_inputs_nand, labels_nand)"
   ]
  },
  {
   "cell_type": "code",
   "execution_count": 5,
   "metadata": {},
   "outputs": [
    {
     "name": "stdout",
     "output_type": "stream",
     "text": [
      "AND(1, 1) =  1\n",
      "NAND(1, 1) =  0\n",
      "OR(0, 1) =  1\n"
     ]
    }
   ],
   "source": [
    "# 결과 예측\n",
    "inputs = np.array([1, 1])\n",
    "\n",
    "# 출력: 1\n",
    "print(\"AND(1, 1) = \", perceptron_and.predict(inputs))\n",
    "# 출력: 0\n",
    "print(\"NAND(1, 1) = \", perceptron_nand.predict(inputs))\n",
    "\n",
    "# 출력: 1\n",
    "inputs_or = np.array([0, 1])\n",
    "print(\"OR(0, 1) = \", perceptron_or.predict(inputs_or))"
   ]
  },
  {
   "cell_type": "code",
   "execution_count": 6,
   "metadata": {},
   "outputs": [],
   "source": [
    "# XOR 문제를 위한 훈련 데이터와 레이블\n",
    "training_inputs_xor = np.array([[0, 0], [0, 1], [1, 0], [1, 1]])\n",
    "labels_xor = np.array([0, 1, 1, 0])\n",
    "\n",
    "perceptron_xor = Perceptron(2)\n",
    "perceptron_xor.train(training_inputs_xor, labels_xor)"
   ]
  },
  {
   "cell_type": "code",
   "execution_count": 7,
   "metadata": {},
   "outputs": [
    {
     "name": "stdout",
     "output_type": "stream",
     "text": [
      "XOR(0, 1) =  0\n"
     ]
    }
   ],
   "source": [
    "inputs_xor = np.array([1, 0])\n",
    "print(\"XOR(0, 1) = \", perceptron_xor.predict(inputs_xor))"
   ]
  },
  {
   "cell_type": "code",
   "execution_count": 8,
   "metadata": {},
   "outputs": [
    {
     "name": "stdout",
     "output_type": "stream",
     "text": [
      "XOR(1, 0) =  1\n"
     ]
    }
   ],
   "source": [
    "class MultiLayerPerceptron:\n",
    "    def __init__(self):\n",
    "        self.p_and = Perceptron(2)\n",
    "        self.p_nand = Perceptron(2)\n",
    "        self.p_or = Perceptron(2)\n",
    "\n",
    "    def train(self, training_inputs, labels):\n",
    "        self.p_and.train(training_inputs, labels_and)\n",
    "        self.p_nand.train(training_inputs, labels_nand)\n",
    "\n",
    "        labels_or = np.array(\n",
    "            [self.p_and.predict(i) or self.p_nand.predict(i) for i in training_inputs]\n",
    "        )\n",
    "        self.p_or.train(training_inputs, labels_or)\n",
    "\n",
    "    def predict(self, inputs):\n",
    "        and_out = self.p_and.predict(inputs)\n",
    "        nand_out = self.p_nand.predict(inputs)\n",
    "\n",
    "        return self.p_or.predict(np.array([and_out, nand_out]))\n",
    "\n",
    "\n",
    "training_inputs_xor = np.array([[0, 0], [0, 1], [1, 0], [1, 1]])\n",
    "labels_xor = np.array([0, 1, 1, 0])\n",
    "\n",
    "mlp = MultiLayerPerceptron()\n",
    "mlp.train(training_inputs_xor, labels_xor)\n",
    "\n",
    "inputs_xor = np.array([1, 0])\n",
    "print(\"XOR(1, 0) = \", mlp.predict(inputs_xor))"
   ]
  },
  {
   "cell_type": "code",
   "execution_count": null,
   "metadata": {},
   "outputs": [],
   "source": []
  }
 ],
 "metadata": {
  "kernelspec": {
   "display_name": "Python 3",
   "language": "python",
   "name": "python3"
  },
  "language_info": {
   "codemirror_mode": {
    "name": "ipython",
    "version": 3
   },
   "file_extension": ".py",
   "mimetype": "text/x-python",
   "name": "python",
   "nbconvert_exporter": "python",
   "pygments_lexer": "ipython3",
   "version": "3.8.20"
  }
 },
 "nbformat": 4,
 "nbformat_minor": 2
}
