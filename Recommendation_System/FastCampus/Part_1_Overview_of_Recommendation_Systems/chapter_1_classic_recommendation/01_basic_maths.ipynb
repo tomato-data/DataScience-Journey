{
 "cells": [
  {
   "cell_type": "code",
   "execution_count": 1,
   "metadata": {},
   "outputs": [],
   "source": [
    "import numpy as np"
   ]
  },
  {
   "cell_type": "code",
   "execution_count": 2,
   "metadata": {},
   "outputs": [
    {
     "name": "stdout",
     "output_type": "stream",
     "text": [
      "Vector a: [1 2 3]\n",
      "\n",
      "Vector b: [4 5 6]\n",
      "\n",
      " 4 + 10 + 18\n",
      "Dot product of a and b: 32\n",
      "\n",
      "Element-wise product of a and b: [ 4 10 18]\n"
     ]
    }
   ],
   "source": [
    "a = np.array([1, 2, 3])\n",
    "b = np.array([4, 5, 6])\n",
    "\n",
    "dot_product = np.dot(a, b)\n",
    "elementwise_product = a * b\n",
    "\n",
    "print(\"Vector a:\", a)\n",
    "print(\"\\nVector b:\", b)\n",
    "\n",
    "print(\"\\n\", a[0] * b[0], \"+\", a[1] * b[1], \"+\", a[2] * b[2])\n",
    "print(\"Dot product of a and b:\", dot_product)\n",
    "\n",
    "print(\"\\nElement-wise product of a and b:\", elementwise_product)"
   ]
  },
  {
   "cell_type": "markdown",
   "metadata": {},
   "source": [
    "행렬 곱셈(matrix multiplication):\n",
    "행렬 곱셈은 많은 추천 시스템 알고리즘에서 필수적인 연산임.\n",
    "첫 번째 행렬의 행 원소에 두 번째 행렬의 열 원소를 곱하고 그 결과를 합산하는,\n",
    "element-wise 내적의 반복임."
   ]
  },
  {
   "cell_type": "code",
   "execution_count": 3,
   "metadata": {},
   "outputs": [
    {
     "name": "stdout",
     "output_type": "stream",
     "text": [
      "Matrix A:\n",
      "[[1 2]\n",
      " [3 4]]\n",
      "\n",
      "Matrix B:\n",
      "[[5 6]\n",
      " [7 8]]\n",
      "\n",
      "C[0, 0] = A[0, 0] * B[0, 0] + A[0, 1] * B[1, 0] = (1 * 5) + (2 * 7) = 19\n",
      "C[0, 1] = A[0, 0] * B[0, 1] + A[0, 1] * B[1, 1] = (1 * 6) + (2 * 8) = 22\n",
      "C[1, 0] = A[1, 0] * B[0, 0] + A[1, 1] * B[1, 0] = (3 * 5) + (4 * 7) = 43\n",
      "C[1, 1] = A[1, 0] * B[0, 1] + A[1, 1] * B[1, 1] = (3 * 6) + (4 * 8) = 50\n",
      "\n",
      "Result Matrix C:\n",
      "[[19 22]\n",
      " [43 50]]\n"
     ]
    }
   ],
   "source": [
    "# Define two 2x2 matrices\n",
    "A = np.array([[1, 2], [3, 4]])\n",
    "B = np.array([[5, 6], [7, 8]])\n",
    "\n",
    "# Calculate the result matrix by matrix multiplication\n",
    "C = np.matmul(A, B)\n",
    "\n",
    "# Show the calculation of each element in the result matrix\n",
    "print(\"Matrix A:\")\n",
    "print(A)\n",
    "\n",
    "print(\"\\nMatrix B:\")\n",
    "print(B)\n",
    "\n",
    "print(\n",
    "    \"\\nC[0, 0] = A[0, 0] * B[0, 0] + A[0, 1] * B[1, 0] = (1 * 5) + (2 * 7) =\",\n",
    "    1 * 5 + 2 * 7,\n",
    ")\n",
    "print(\n",
    "    \"C[0, 1] = A[0, 0] * B[0, 1] + A[0, 1] * B[1, 1] = (1 * 6) + (2 * 8) =\",\n",
    "    1 * 6 + 2 * 8,\n",
    ")\n",
    "print(\n",
    "    \"C[1, 0] = A[1, 0] * B[0, 0] + A[1, 1] * B[1, 0] = (3 * 5) + (4 * 7) =\",\n",
    "    3 * 5 + 4 * 7,\n",
    ")\n",
    "print(\n",
    "    \"C[1, 1] = A[1, 0] * B[0, 1] + A[1, 1] * B[1, 1] = (3 * 6) + (4 * 8) =\",\n",
    "    3 * 6 + 4 * 8,\n",
    ")\n",
    "\n",
    "print(\"\\nResult Matrix C:\")\n",
    "print(C)"
   ]
  },
  {
   "cell_type": "markdown",
   "metadata": {},
   "source": [
    "행렬의 전치:\n",
    "행렬 전치는 단순히 행과 열을 바꾸어 주면 됨.\n",
    "이 연산은 매우 단순하지만 자주 사용되는 작업으로,\n",
    "추천 알고리즘에서는 대표적으로 MF, ALS 등에서 사용됨."
   ]
  },
  {
   "cell_type": "code",
   "execution_count": 4,
   "metadata": {},
   "outputs": [
    {
     "name": "stdout",
     "output_type": "stream",
     "text": [
      "Matrix A:\n",
      " [[1 2]\n",
      " [3 4]\n",
      " [5 6]]\n",
      "\n",
      "Transpose of A:\n",
      " [[1 3 5]\n",
      " [2 4 6]]\n"
     ]
    }
   ],
   "source": [
    "A = np.array([[1, 2], [3, 4], [5, 6]])\n",
    "\n",
    "A_transpose = np.transpose(A)\n",
    "print(\"Matrix A:\\n\", A)\n",
    "print(\"\\nTranspose of A:\\n\", A_transpose)"
   ]
  },
  {
   "cell_type": "markdown",
   "metadata": {},
   "source": [
    "행렬의 역행렬:\n",
    "정사각형 행렬의 역행렬은 원 행렬에 곱하면 행렬의 단위 행렬이 나오는 행렬임.\n",
    "선형 시스템(연립 방정식)의 해를 구하는 데 사용되거나,\n",
    "추천에서는 SVD를 계산하는 데 사용됨"
   ]
  },
  {
   "cell_type": "code",
   "execution_count": 6,
   "metadata": {},
   "outputs": [
    {
     "name": "stdout",
     "output_type": "stream",
     "text": [
      "Matrix A:\n",
      " [[1 2]\n",
      " [3 4]]\n",
      "\n",
      "Inverse of A:\n",
      " [[-2.   1. ]\n",
      " [ 1.5 -0.5]]\n",
      "\n",
      "A * A_inverse (Identity matrix):\n",
      " [[1.0000000e+00 0.0000000e+00]\n",
      " [8.8817842e-16 1.0000000e+00]]\n"
     ]
    }
   ],
   "source": [
    "A = np.array([[1, 2], [3, 4]])\n",
    "\n",
    "A_inverse = np.linalg.inv(A)\n",
    "print(\"Matrix A:\\n\", A)\n",
    "print(\"\\nInverse of A:\\n\", A_inverse)\n",
    "print(\"\\nA * A_inverse (Identity matrix):\\n\", np.matmul(A, A_inverse))"
   ]
  },
  {
   "cell_type": "markdown",
   "metadata": {},
   "source": [
    "대각 행렬(diagonal matrix):\n",
    "대각 행렬은 주 대각선 바깥의 모든 요소가 0인 정사각 행렬을 말함.\n",
    "주 대각선은 행과 열 인덱스가 같은 원소로 구성됨.\n",
    "대각선 행렬은 다양한 알고리즘에 사용되며 그 구조로 인해 계산을 단순화하는 데 사용됨."
   ]
  },
  {
   "cell_type": "code",
   "execution_count": 7,
   "metadata": {},
   "outputs": [
    {
     "name": "stdout",
     "output_type": "stream",
     "text": [
      "Diagonal matrix D:\n",
      " [[1 0 0]\n",
      " [0 2 0]\n",
      " [0 0 3]]\n"
     ]
    }
   ],
   "source": [
    "D = np.diag([1, 2, 3])\n",
    "print(\"Diagonal matrix D:\\n\", D)"
   ]
  },
  {
   "cell_type": "markdown",
   "metadata": {},
   "source": [
    "고유값과 고유 벡터:\n",
    "정사각형 행렬 A의 고유 벡터는 0이 아닌 벡터로,\n",
    "A를 곱하면 그 자체의 스칼라 배수가 되는 성질을 띰.\n",
    "이 스칼라 배수 값을 고유값이라고 함."
   ]
  },
  {
   "cell_type": "markdown",
   "metadata": {},
   "source": [
    "고유값(eigenvalue)과 고유벡터(eigenvector)는 선형 대수학에서 중요한 개념입니다. \n",
    "\n",
    "- **고유벡터**: 정사각형 행렬 A에 대해, 고유벡터는 A와 곱했을 때 그 방향이 변하지 않고 스칼라 배수로만 변하는 벡터입니다. 즉, $$A \\mathbf{v} = \\lambda \\mathbf{v}$$를 만족하는 벡터 v가 고유벡터입니다. 여기서 λ는 고유값입니다.\n",
    "\n",
    "- **고유값**: 고유값은 고유벡터에 대한 스칼라 값으로, 고유벡터가 A에 의해 얼마나 늘어나거나 줄어드는지를 나타냅니다. 고유값은 행렬의 특성을 이해하는 데 중요한 역할을 하며, 시스템의 안정성, 변동성 등을 분석하는 데 사용됩니다."
   ]
  },
  {
   "cell_type": "code",
   "execution_count": 8,
   "metadata": {},
   "outputs": [
    {
     "name": "stdout",
     "output_type": "stream",
     "text": [
      "Matrix A:\n",
      " [[1 2]\n",
      " [3 4]]\n",
      "\n",
      "Eigenvalues of A:\n",
      " [-0.37228132  5.37228132]\n",
      "\n",
      "Eigenvectors of A:\n",
      " [[-0.82456484 -0.41597356]\n",
      " [ 0.56576746 -0.90937671]]\n"
     ]
    }
   ],
   "source": [
    "A = np.array([[1, 2], [3, 4]])\n",
    "\n",
    "eigenvalues, eigenvectors = np.linalg.eig(A)\n",
    "\n",
    "print(\"Matrix A:\\n\", A)\n",
    "print(\"\\nEigenvalues of A:\\n\", eigenvalues)\n",
    "print(\"\\nEigenvectors of A:\\n\", eigenvectors)"
   ]
  },
  {
   "cell_type": "markdown",
   "metadata": {},
   "source": [
    "행렬 랭크:\n",
    "행렬의 행렬계수는 행렬에서 선형적으로 독립적인 열 벡터(또는 행 벡터)의 최대 개수.\n",
    "기하적으로는, 단위벡터에 한 선형변환이 가해졌을 때 도착하는 공간의 차원 수."
   ]
  },
  {
   "cell_type": "code",
   "execution_count": 9,
   "metadata": {},
   "outputs": [
    {
     "name": "stdout",
     "output_type": "stream",
     "text": [
      "Matrix A:\n",
      " [[1 2 3]\n",
      " [4 5 6]\n",
      " [7 8 9]]\n",
      "\n",
      "Rank of A: 2\n"
     ]
    }
   ],
   "source": [
    "A = np.array([[1, 2, 3], [4, 5, 6], [7, 8, 9]])\n",
    "\n",
    "rank_A = np.linalg.matrix_rank(A)\n",
    "print(\"Matrix A:\\n\", A)\n",
    "print(\"\\nRank of A:\", rank_A)"
   ]
  },
  {
   "cell_type": "markdown",
   "metadata": {},
   "source": [
    "특이값 분해(SVD):\n",
    "SVD는 행렬을 U, Σ(시그마), V^T(V의 전치)의 세 행렬로 분해하는 데 사용되는 기법으로,\n",
    "여기서 U와 V는 직교 행렬이고 Σ는 특이값이 포함된 대각선 행렬임.\n",
    "SVD는 데이터의 차원을 줄이고, 노이즈를 제거하는 데도 사용되며,\n",
    "추천 시스템의 맥락에서는 Latent Factor를 발견하는 데 사용할 수 있음"
   ]
  },
  {
   "cell_type": "code",
   "execution_count": 10,
   "metadata": {},
   "outputs": [
    {
     "name": "stdout",
     "output_type": "stream",
     "text": [
      "Matrix A:\n",
      " [[1 2 3]\n",
      " [4 5 6]\n",
      " [7 8 9]]\n",
      "\n",
      "U:\n",
      " [[-0.21483724  0.88723069  0.40824829]\n",
      " [-0.52058739  0.24964395 -0.81649658]\n",
      " [-0.82633754 -0.38794278  0.40824829]]\n",
      "\n",
      "Singular values (Sigma):\n",
      " [1.68481034e+01 1.06836951e+00 3.33475287e-16]\n",
      "\n",
      "V transpose (Vt):\n",
      " [[-0.47967118 -0.57236779 -0.66506441]\n",
      " [-0.77669099 -0.07568647  0.62531805]\n",
      " [-0.40824829  0.81649658 -0.40824829]]\n"
     ]
    }
   ],
   "source": [
    "A = np.array([[1, 2, 3], [4, 5, 6], [7, 8, 9]])\n",
    "\n",
    "U, sigma, Vt = np.linalg.svd(A)\n",
    "\n",
    "print(\"Matrix A:\\n\", A)\n",
    "print(\"\\nU:\\n\", U)\n",
    "print(\"\\nSingular values (Sigma):\\n\", sigma)\n",
    "print(\"\\nV transpose (Vt):\\n\", Vt)"
   ]
  },
  {
   "cell_type": "code",
   "execution_count": 11,
   "metadata": {},
   "outputs": [
    {
     "name": "stdout",
     "output_type": "stream",
     "text": [
      "Diagonal matrix (Sigma):\n",
      " [[1.68481034e+01 0.00000000e+00 0.00000000e+00]\n",
      " [0.00000000e+00 1.06836951e+00 0.00000000e+00]\n",
      " [0.00000000e+00 0.00000000e+00 3.33475287e-16]]\n"
     ]
    }
   ],
   "source": [
    "Sigma = np.diag(sigma)\n",
    "print(\"Diagonal matrix (Sigma):\\n\", Sigma)"
   ]
  },
  {
   "cell_type": "markdown",
   "metadata": {},
   "source": [
    "SVD 구성 요소(U, Σ, V^T)를 각각 곱하면, 원래 행렬 A를 재구성할 수 있음."
   ]
  },
  {
   "cell_type": "code",
   "execution_count": 12,
   "metadata": {},
   "outputs": [
    {
     "name": "stdout",
     "output_type": "stream",
     "text": [
      "Reconstructed Matrix A from SVD components:\n",
      " [[1. 2. 3.]\n",
      " [4. 5. 6.]\n",
      " [7. 8. 9.]]\n"
     ]
    }
   ],
   "source": [
    "reconstructed_A = np.matmul(np.matmul(U, Sigma), Vt)\n",
    "print(\"Reconstructed Matrix A from SVD components:\\n\", reconstructed_A)"
   ]
  },
  {
   "cell_type": "code",
   "execution_count": 13,
   "metadata": {},
   "outputs": [],
   "source": [
    "# Compute Euclidean distance\n",
    "def euclidean_distance(vec1, vec2):\n",
    "    return np.sqrt(np.sum((vec1 - vec2) ** 2))\n",
    "\n",
    "\n",
    "# Compute Cosine distance\n",
    "def cosine_distance(vec1, vec2):\n",
    "    dot_product = np.dot(vec1, vec2)\n",
    "    norm_a = np.linalg.norm(vec1)\n",
    "    norm_b = np.linalg.norm(vec2)\n",
    "    return 1 - (dot_product / (norm_a * norm_b))"
   ]
  },
  {
   "cell_type": "markdown",
   "metadata": {},
   "source": [
    "아래 데이터프레임은 아래 3개의 문장을 단어별로 카운트해서 벡터로 만든 결과임.\n",
    "\n",
    "\"I like apples.\"\n",
    "\"I like oranges.\"\n",
    "\"I like apples. I really like apples.\""
   ]
  },
  {
   "cell_type": "code",
   "execution_count": 15,
   "metadata": {},
   "outputs": [
    {
     "data": {
      "text/html": [
       "<div>\n",
       "<style scoped>\n",
       "    .dataframe tbody tr th:only-of-type {\n",
       "        vertical-align: middle;\n",
       "    }\n",
       "\n",
       "    .dataframe tbody tr th {\n",
       "        vertical-align: top;\n",
       "    }\n",
       "\n",
       "    .dataframe thead th {\n",
       "        text-align: right;\n",
       "    }\n",
       "</style>\n",
       "<table border=\"1\" class=\"dataframe\">\n",
       "  <thead>\n",
       "    <tr style=\"text-align: right;\">\n",
       "      <th></th>\n",
       "      <th>I</th>\n",
       "      <th>like</th>\n",
       "      <th>apples</th>\n",
       "      <th>oranges</th>\n",
       "      <th>really</th>\n",
       "    </tr>\n",
       "  </thead>\n",
       "  <tbody>\n",
       "    <tr>\n",
       "      <th>1</th>\n",
       "      <td>1</td>\n",
       "      <td>1</td>\n",
       "      <td>1</td>\n",
       "      <td>0</td>\n",
       "      <td>0</td>\n",
       "    </tr>\n",
       "    <tr>\n",
       "      <th>2</th>\n",
       "      <td>1</td>\n",
       "      <td>1</td>\n",
       "      <td>0</td>\n",
       "      <td>1</td>\n",
       "      <td>0</td>\n",
       "    </tr>\n",
       "    <tr>\n",
       "      <th>3</th>\n",
       "      <td>2</td>\n",
       "      <td>2</td>\n",
       "      <td>2</td>\n",
       "      <td>0</td>\n",
       "      <td>1</td>\n",
       "    </tr>\n",
       "  </tbody>\n",
       "</table>\n",
       "</div>"
      ],
      "text/plain": [
       "   I  like  apples  oranges  really\n",
       "1  1     1       1        0       0\n",
       "2  1     1       0        1       0\n",
       "3  2     2       2        0       1"
      ]
     },
     "metadata": {},
     "output_type": "display_data"
    }
   ],
   "source": [
    "import pandas as pd\n",
    "\n",
    "# Create a pandas DataFrame with the word vectors\n",
    "data = {\n",
    "    \"I\": [1, 1, 2],\n",
    "    \"like\": [1, 1, 2],\n",
    "    \"apples\": [1, 0, 2],\n",
    "    \"oranges\": [0, 1, 0],\n",
    "    \"really\": [0, 0, 1],\n",
    "}\n",
    "df = pd.DataFrame(data)\n",
    "df.index = [1, 2, 3]\n",
    "\n",
    "display(df)"
   ]
  },
  {
   "cell_type": "markdown",
   "metadata": {},
   "source": [
    "문장 1과 문장 2는 동일한 구성을 갖는 대신 단어가 한 개 다름 (apples -> oranges).\n",
    "\n",
    "문장 1과 문장 2 사이의 코사인 거리는 0.33으로, 벡터 방향에 약간의 차이가 있음을 시사함.\n",
    "문장 1과 문장 2 사이의 유클리드 거리는 1.414로 단어 한 개가 다른 영향을 보여줌.\n"
   ]
  },
  {
   "cell_type": "markdown",
   "metadata": {},
   "source": [
    "한편, 이 예시에서 문장 1과 문장 3은 동일한 단어를 공유하지만 반복으로 인해 벡터의 크기가 다름\n",
    "\n",
    "문장 1과 문장 3 사이의 코사인 거리는 거의 0으로, 문장 3의 크기가 더 크지만 단어 분포 측면에서 유사하다는 것을 나타냄.\n",
    "이는 코사인 유사성이 벡터의 크기에 민감하지 않다는 것을 보여줌\n",
    "\n",
    "반면에 문장 1과 문장 3 사이의 유클리드 거리는 0보다 크며, 이는 두 문장 간의 크기 차이가 있음을 나타냄.\n",
    "이는 유클리드 거리는 방향 뿐만 아니라 벡터의 크기에도 영향을 받음을 보여 줌."
   ]
  },
  {
   "cell_type": "code",
   "execution_count": 16,
   "metadata": {},
   "outputs": [
    {
     "name": "stdout",
     "output_type": "stream",
     "text": [
      "Euclidean distance between Sentence 1 and Sentence 2: 1.4142135623730951\n",
      "Cosine distance between Sentence 1 and Sentence 2: 0.33333333333333326\n",
      "Euclidean distance between Sentence 1 and Sentence 3: 2.0\n",
      "Cosine distance between Sentence 1 and Sentence 3: 0.03923107716947705\n"
     ]
    }
   ],
   "source": [
    "sentence1_vector = df.iloc[0].values\n",
    "sentence2_vector = df.iloc[1].values\n",
    "sentence3_vector = df.iloc[2].values\n",
    "\n",
    "euclidean_dist_12 = euclidean_distance(sentence1_vector, sentence2_vector)\n",
    "cosine_dist_12 = cosine_distance(sentence1_vector, sentence2_vector)\n",
    "\n",
    "euclidean_dist_13 = euclidean_distance(sentence1_vector, sentence3_vector)\n",
    "cosine_dist_13 = cosine_distance(sentence1_vector, sentence3_vector)\n",
    "\n",
    "print(f\"Euclidean distance between Sentence 1 and Sentence 2: {euclidean_dist_12}\")\n",
    "print(f\"Cosine distance between Sentence 1 and Sentence 2: {cosine_dist_12}\")\n",
    "\n",
    "print(f\"Euclidean distance between Sentence 1 and Sentence 3: {euclidean_dist_13}\")\n",
    "print(f\"Cosine distance between Sentence 1 and Sentence 3: {cosine_dist_13}\")"
   ]
  },
  {
   "cell_type": "code",
   "execution_count": null,
   "metadata": {},
   "outputs": [],
   "source": []
  }
 ],
 "metadata": {
  "kernelspec": {
   "display_name": "Python 3",
   "language": "python",
   "name": "python3"
  },
  "language_info": {
   "codemirror_mode": {
    "name": "ipython",
    "version": 3
   },
   "file_extension": ".py",
   "mimetype": "text/x-python",
   "name": "python",
   "nbconvert_exporter": "python",
   "pygments_lexer": "ipython3",
   "version": "3.8.20"
  }
 },
 "nbformat": 4,
 "nbformat_minor": 2
}
