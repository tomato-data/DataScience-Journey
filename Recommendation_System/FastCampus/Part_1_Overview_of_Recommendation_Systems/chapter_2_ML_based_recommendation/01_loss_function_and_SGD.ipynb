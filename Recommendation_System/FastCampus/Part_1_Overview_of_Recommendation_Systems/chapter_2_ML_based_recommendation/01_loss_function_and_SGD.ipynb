{
 "cells": [
  {
   "cell_type": "code",
   "execution_count": 1,
   "metadata": {},
   "outputs": [],
   "source": [
    "import time\n",
    "import numpy as np\n",
    "\n",
    "# 랜덤 데이터 생성\n",
    "np.random.seed(42)\n",
    "x = np.random.randn(100)\n",
    "\n",
    "# 실제값: a = 2, b = 0\n",
    "y = 2*x + 0.1*np.random.randn(100) \n",
    "\n",
    "# RMSE 로스 펑션 정의\n",
    "def rmse(y_true, y_pred):\n",
    "    return np.sqrt(np.mean((y_true - y_pred)**2))"
   ]
  },
  {
   "cell_type": "code",
   "execution_count": 2,
   "metadata": {},
   "outputs": [
    {
     "data": {
      "text/plain": [
       "array([ 0.49671415, -0.1382643 ,  0.64768854,  1.52302986, -0.23415337,\n",
       "       -0.23413696,  1.57921282,  0.76743473, -0.46947439,  0.54256004])"
      ]
     },
     "execution_count": 2,
     "metadata": {},
     "output_type": "execute_result"
    }
   ],
   "source": [
    "x[:10]"
   ]
  },
  {
   "cell_type": "code",
   "execution_count": 3,
   "metadata": {},
   "outputs": [
    {
     "data": {
      "text/plain": [
       "array([ 0.85189123, -0.31859313,  1.26110562,  2.96583199, -0.48443532,\n",
       "       -0.42786883,  3.34704422,  1.55232724, -0.91319373,  1.0776755 ])"
      ]
     },
     "execution_count": 3,
     "metadata": {},
     "output_type": "execute_result"
    }
   ],
   "source": [
    "y[:10]"
   ]
  },
  {
   "cell_type": "markdown",
   "metadata": {},
   "source": [
    "## Brute-force 방법 (무작위 대입법)"
   ]
  },
  {
   "cell_type": "code",
   "execution_count": 4,
   "metadata": {},
   "outputs": [
    {
     "name": "stdout",
     "output_type": "stream",
     "text": [
      "Brute-force method: a = 1.9919919919919913, b = 0.010010010010010006, RMSE = 0.09456779060230674, Time = 4.833376884460449 seconds\n"
     ]
    }
   ],
   "source": [
    "start_time = time.time()\n",
    "\n",
    "# -10~10 사이의 값을 1000개의 interval로 쪼갬\n",
    "a_values = np.linspace(-10, 10, 1000)\n",
    "b_values = np.linspace(-10, 10, 1000)\n",
    "\n",
    "min_loss = float(\"inf\")\n",
    "best_a, best_b = None, None\n",
    "\n",
    "# a와 b 값들을 iteration\n",
    "for a in a_values:\n",
    "    for b in b_values:\n",
    "\n",
    "        # broadcasting이 일어남 -> a는 scalar 값이지만, x는 (100,) 값을 갖고 있음\n",
    "        y_pred = a * x + b\n",
    "        loss = rmse(y, y_pred)\n",
    "\n",
    "        # 최소 로스를 기록해서, 그 보다 낮은 값이 등장할 경우 로스와 최적의 파라미터를 update\n",
    "        if loss < min_loss:\n",
    "            min_loss = loss\n",
    "            best_a, best_b = a, b\n",
    "\n",
    "\n",
    "# 소요 시간 확인\n",
    "brute_force_time = time.time() - start_time\n",
    "print(\n",
    "    f\"Brute-force method: a = {best_a}, b = {best_b}, RMSE = {min_loss}, Time = {brute_force_time} seconds\"\n",
    ")"
   ]
  },
  {
   "cell_type": "markdown",
   "metadata": {},
   "source": [
    "## Stochastic Gradient Descent"
   ]
  },
  {
   "cell_type": "code",
   "execution_count": 5,
   "metadata": {},
   "outputs": [
    {
     "name": "stdout",
     "output_type": "stream",
     "text": [
      "Epoch 0, a = 0.3596477643863195, b = 0.4229484842070944, RMSE = 1.5865199401612435\n",
      "Epoch 100, a = 1.9419895343642082, b = 0.0655332076753822, RMSE = 0.12329138130155666\n",
      "Epoch 200, a = 2.01514870339355, b = 0.012580090713466448, RMSE = 0.0980953529378534\n",
      "Epoch 300, a = 1.9456542858405708, b = -0.019332105434106503, RMSE = 0.10196803408445895\n",
      "Epoch 400, a = 2.0164010405874455, b = -0.01571578726957652, RMSE = 0.0999666504919011\n",
      "Epoch 500, a = 2.0401515775828365, b = 0.008233485799572428, RMSE = 0.10612700340871035\n",
      "Epoch 600, a = 1.9708466358825485, b = 0.016315602777042137, RMSE = 0.09648153419077189\n",
      "Epoch 700, a = 2.0131361553083407, b = 0.01386809836764842, RMSE = 0.09776325139686762\n",
      "Epoch 800, a = 2.0305876697976712, b = 0.01985877283671398, RMSE = 0.10340348415216669\n",
      "Epoch 900, a = 2.0071413894228693, b = 0.020092355664442216, RMSE = 0.0974972431814113\n",
      "SGD method: a = 1.9950152479865568, b = 0.10762451212940533, RMSE = 0.0974972431814113, Time = 0.022143125534057617 seconds\n"
     ]
    }
   ],
   "source": [
    "start_time = time.time()\n",
    "\n",
    "# 무작위의 a,b를 생성\n",
    "a, b = np.random.randn(), np.random.randn()\n",
    "\n",
    "# 임의의 학습률\n",
    "learning_rate = 0.1\n",
    "\n",
    "# 1000번의 epoch에 걸쳐 업데이트 진행\n",
    "for epoch in range(1000):\n",
    "    # 랜덤 샘플 1개를 사용\n",
    "    random_idx = np.random.choice(len(x))  # SGD uses one random sample per step\n",
    "    xi, yi = x[random_idx], y[random_idx]\n",
    "\n",
    "    # 예측값 생성\n",
    "    y_pred = a * xi + b\n",
    "\n",
    "    # MSE의 도함수 (RMSE와 최적값이 동일)\n",
    "    gradient_a = -2 * xi * (yi - y_pred)\n",
    "    gradient_b = -2 * (yi - y_pred)\n",
    "\n",
    "    a = a - learning_rate * gradient_a\n",
    "    b = b - learning_rate * gradient_b\n",
    "\n",
    "    # 각 100번째 스텝마다 parameter와 loss 값 계산\n",
    "    if epoch % 100 == 0:\n",
    "        y_pred = a * x + b\n",
    "        loss = rmse(y, y_pred)\n",
    "        print(f\"Epoch {epoch}, a = {a}, b = {b}, RMSE = {loss}\")\n",
    "\n",
    "# 소요 시간 확인\n",
    "sgd_time = time.time() - start_time\n",
    "print(f\"SGD method: a = {a}, b = {b}, RMSE = {loss}, Time = {sgd_time} seconds\")"
   ]
  },
  {
   "cell_type": "code",
   "execution_count": 6,
   "metadata": {},
   "outputs": [
    {
     "name": "stdout",
     "output_type": "stream",
     "text": [
      "SGD가, brute-force 방법에 비해 218.28배 빠름\n"
     ]
    }
   ],
   "source": [
    "# 시간 비교\n",
    "print(f\"SGD가, brute-force 방법에 비해 {brute_force_time / sgd_time:.2f}배 빠름\")"
   ]
  },
  {
   "cell_type": "code",
   "execution_count": null,
   "metadata": {},
   "outputs": [],
   "source": []
  }
 ],
 "metadata": {
  "kernelspec": {
   "display_name": "Python 3",
   "language": "python",
   "name": "python3"
  },
  "language_info": {
   "codemirror_mode": {
    "name": "ipython",
    "version": 3
   },
   "file_extension": ".py",
   "mimetype": "text/x-python",
   "name": "python",
   "nbconvert_exporter": "python",
   "pygments_lexer": "ipython3",
   "version": "3.8.20"
  }
 },
 "nbformat": 4,
 "nbformat_minor": 2
}
