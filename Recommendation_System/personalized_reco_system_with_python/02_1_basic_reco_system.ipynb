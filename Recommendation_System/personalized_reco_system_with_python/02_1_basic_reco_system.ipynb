{
 "cells": [
  {
   "cell_type": "code",
   "execution_count": 4,
   "metadata": {},
   "outputs": [
    {
     "name": "stdout",
     "output_type": "stream",
     "text": [
      "         age sex  occupation zip_code\n",
      "user_id                              \n",
      "1         24   M  technician    85711\n",
      "2         53   F       other    94043\n",
      "3         23   M      writer    32067\n",
      "4         24   M  technician    43537\n",
      "5         33   F       other    15213\n"
     ]
    }
   ],
   "source": [
    "import pandas as pd\n",
    "import numpy as np\n",
    "\n",
    "u_cols = [\"user_id\", \"age\", \"sex\", \"occupation\", \"zip_code\"]\n",
    "users = pd.read_csv(\n",
    "    \"./ml-100k/u.user\",\n",
    "    sep=\"|\",\n",
    "    names=u_cols,\n",
    "    encoding=\"latin-1\",\n",
    ")\n",
    "users = users.set_index(\"user_id\")\n",
    "\n",
    "print(users.head())"
   ]
  },
  {
   "cell_type": "code",
   "execution_count": 5,
   "metadata": {},
   "outputs": [
    {
     "name": "stdout",
     "output_type": "stream",
     "text": [
      "                      title release date  video release date  \\\n",
      "movie_id                                                       \n",
      "1          Toy Story (1995)  01-Jan-1995                 NaN   \n",
      "2          GoldenEye (1995)  01-Jan-1995                 NaN   \n",
      "3         Four Rooms (1995)  01-Jan-1995                 NaN   \n",
      "4         Get Shorty (1995)  01-Jan-1995                 NaN   \n",
      "5            Copycat (1995)  01-Jan-1995                 NaN   \n",
      "\n",
      "                                                   IMDB URL  unknown  Action  \\\n",
      "movie_id                                                                       \n",
      "1         http://us.imdb.com/M/title-exact?Toy%20Story%2...        0       0   \n",
      "2         http://us.imdb.com/M/title-exact?GoldenEye%20(...        0       1   \n",
      "3         http://us.imdb.com/M/title-exact?Four%20Rooms%...        0       0   \n",
      "4         http://us.imdb.com/M/title-exact?Get%20Shorty%...        0       1   \n",
      "5         http://us.imdb.com/M/title-exact?Copycat%20(1995)        0       0   \n",
      "\n",
      "          Adventure  Animation  Children's  Comedy  ...  Fantasy  Film-Noir  \\\n",
      "movie_id                                            ...                       \n",
      "1                 0          1           1       1  ...        0          0   \n",
      "2                 1          0           0       0  ...        0          0   \n",
      "3                 0          0           0       0  ...        0          0   \n",
      "4                 0          0           0       1  ...        0          0   \n",
      "5                 0          0           0       0  ...        0          0   \n",
      "\n",
      "          Horror  Musical  Mystery  Romance  Sci-Fi  Thriller  War  Western  \n",
      "movie_id                                                                     \n",
      "1              0        0        0        0       0         0    0        0  \n",
      "2              0        0        0        0       0         1    0        0  \n",
      "3              0        0        0        0       0         1    0        0  \n",
      "4              0        0        0        0       0         0    0        0  \n",
      "5              0        0        0        0       0         1    0        0  \n",
      "\n",
      "[5 rows x 23 columns]\n"
     ]
    }
   ],
   "source": [
    "i_cols = [\n",
    "    \"movie_id\",\n",
    "    \"title\",\n",
    "    \"release date\",\n",
    "    \"video release date\",\n",
    "    \"IMDB URL\",\n",
    "    \"unknown\",\n",
    "    \"Action\",\n",
    "    \"Adventure\",\n",
    "    \"Animation\",\n",
    "    \"Children's\",\n",
    "    \"Comedy\",\n",
    "    \"Crime\",\n",
    "    \"Documentary\",\n",
    "    \"Drama\",\n",
    "    \"Fantasy\",\n",
    "    \"Film-Noir\",\n",
    "    \"Horror\",\n",
    "    \"Musical\",\n",
    "    \"Mystery\",\n",
    "    \"Romance\",\n",
    "    \"Sci-Fi\",\n",
    "    \"Thriller\",\n",
    "    \"War\",\n",
    "    \"Western\",\n",
    "]\n",
    "movies = pd.read_csv(\n",
    "    \"./ml-100k/u.item\",\n",
    "    sep=\"|\",\n",
    "    names=i_cols,\n",
    "    encoding=\"latin-1\",\n",
    ")\n",
    "\n",
    "movies = movies.set_index(\"movie_id\")\n",
    "\n",
    "print(movies.head())"
   ]
  },
  {
   "cell_type": "code",
   "execution_count": 7,
   "metadata": {},
   "outputs": [
    {
     "name": "stdout",
     "output_type": "stream",
     "text": [
      "         movie_id  rating  timestamp\n",
      "user_id                             \n",
      "196           242       3  881250949\n",
      "186           302       3  891717742\n",
      "22            377       1  878887116\n",
      "244            51       2  880606923\n",
      "166           346       1  886397596\n"
     ]
    }
   ],
   "source": [
    "r_cols = [\"user_id\", \"movie_id\", \"rating\", \"timestamp\"]\n",
    "ratings = pd.read_csv(\n",
    "    \"./ml-100k/u.data\",\n",
    "    sep=\"\\t\",\n",
    "    names=r_cols,\n",
    "    encoding=\"latin-1\",\n",
    ")\n",
    "ratings = ratings.set_index(\"user_id\")\n",
    "print(ratings.head())"
   ]
  },
  {
   "cell_type": "code",
   "execution_count": 8,
   "metadata": {},
   "outputs": [
    {
     "name": "stdout",
     "output_type": "stream",
     "text": [
      "movie_id\n",
      "814                         Great Day in Harlem, A (1994)\n",
      "1599                        Someone Else's America (1995)\n",
      "1201           Marlene Dietrich: Shadow and Light (1996) \n",
      "1122                       They Made Me a Criminal (1939)\n",
      "1653    Entertaining Angels: The Dorothy Day Story (1996)\n",
      "Name: title, dtype: object\n"
     ]
    }
   ],
   "source": [
    "# Best-seller 추천\n",
    "\n",
    "def recom_movie1(n_items):\n",
    "    movie_sort = movie_mean.sort_values(ascending=False)[:n_items]\n",
    "    recom_movies = movies.loc[movie_sort.index]\n",
    "    recommendations = recom_movies[\"title\"]\n",
    "    return recommendations\n",
    "\n",
    "# 한줄로 반환하는 함수\n",
    "def recom_movie2(n_itmes):\n",
    "    return movies.loc[movie_mean.sort_values(ascending=False)[:n_itmes].index][\"title\"]\n",
    "\n",
    "\n",
    "movie_mean = ratings.groupby([\"movie_id\"])[\"rating\"].mean()\n",
    "print(recom_movie1(5))"
   ]
  },
  {
   "cell_type": "code",
   "execution_count": 9,
   "metadata": {},
   "outputs": [
    {
     "name": "stdout",
     "output_type": "stream",
     "text": [
      "0.996007224010567\n"
     ]
    }
   ],
   "source": [
    "# 정확도 계산\n",
    "def RMSE(y_true, y_pred):\n",
    "    return np.sqrt(np.mean((np.array(y_true) - np.array(y_pred)) ** 2))\n",
    "\n",
    "\n",
    "rmse = []\n",
    "for user in set(ratings.index):\n",
    "    y_true = ratings.loc[user][\"rating\"]\n",
    "    y_pred = movie_mean[ratings.loc[user][\"movie_id\"]]\n",
    "    accuracy = RMSE(y_true, y_pred)\n",
    "    rmse.append(accuracy)\n",
    "\n",
    "print(np.mean(rmse))"
   ]
  },
  {
   "cell_type": "code",
   "execution_count": null,
   "metadata": {},
   "outputs": [],
   "source": []
  }
 ],
 "metadata": {
  "kernelspec": {
   "display_name": "Python 3",
   "language": "python",
   "name": "python3"
  },
  "language_info": {
   "codemirror_mode": {
    "name": "ipython",
    "version": 3
   },
   "file_extension": ".py",
   "mimetype": "text/x-python",
   "name": "python",
   "nbconvert_exporter": "python",
   "pygments_lexer": "ipython3",
   "version": "3.8.20"
  }
 },
 "nbformat": 4,
 "nbformat_minor": 2
}
