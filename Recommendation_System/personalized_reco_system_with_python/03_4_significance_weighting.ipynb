{
 "cells": [
  {
   "cell_type": "code",
   "execution_count": 2,
   "metadata": {},
   "outputs": [],
   "source": [
    "# 협업필터링(CF) 추천 - Significance weighting\n",
    "\n",
    "import numpy as np\n",
    "import pandas as pd\n",
    "\n",
    "# 데이터 읽어 오기 \n",
    "u_cols = ['user_id', 'age', 'sex', 'occupation', 'zip_code']\n",
    "users = pd.read_csv('./ml-100k/u.user', sep='|', names=u_cols, encoding='latin-1')\n",
    "i_cols = ['movie_id', 'title', 'release date', 'video release date', 'IMDB URL', 'unknown', \n",
    "          'Action', 'Adventure', 'Animation', 'Children\\'s', 'Comedy', 'Crime', 'Documentary', \n",
    "          'Drama', 'Fantasy', 'Film-Noir', 'Horror', 'Musical', 'Mystery', 'Romance', 'Sci-Fi', \n",
    "          'Thriller', 'War', 'Western']\n",
    "movies = pd.read_csv('./ml-100k/u.item', sep='|', names=i_cols, encoding='latin-1')\n",
    "r_cols = ['user_id', 'movie_id', 'rating', 'timestamp']\n",
    "ratings = pd.read_csv('./ml-100k/u.data', sep='\\t', names=r_cols, encoding='latin-1')\n",
    "\n",
    "# timestamp 제거 \n",
    "ratings = ratings.drop('timestamp', axis=1)\n",
    "# movie ID와 title 빼고 다른 데이터 제거\n",
    "movies = movies[['movie_id', 'title']]\n",
    "\n",
    "# train, test 데이터 분리\n",
    "from sklearn.model_selection import train_test_split\n",
    "x = ratings.copy()\n",
    "y = ratings['user_id']\n",
    "x_train, x_test, y_train, y_test = train_test_split(x, y, test_size=0.25, stratify=y)\n",
    "\n",
    "# 정확도(RMSE)를 계산하는 함수 \n",
    "def RMSE(y_true, y_pred):\n",
    "    return np.sqrt(np.mean((np.array(y_true) - np.array(y_pred))**2))\n",
    "\n",
    "# 모델별 RMSE를 계산하는 함수 \n",
    "def score(model, neighbor_size=0):\n",
    "    id_pairs = zip(x_test['user_id'], x_test['movie_id'])\n",
    "    y_pred = np.array([model(user, movie, neighbor_size) for (user, movie) in id_pairs])\n",
    "    y_true = np.array(x_test['rating'])\n",
    "    return RMSE(y_true, y_pred)\n",
    "\n",
    "# train 데이터로 Full matrix 구하기 \n",
    "rating_matrix = x_train.pivot(index='user_id', columns='movie_id', values='rating')\n",
    "\n",
    "# train set 사용자들의 Cosine similarities 계산\n",
    "from sklearn.metrics.pairwise import cosine_similarity\n",
    "matrix_dummy = rating_matrix.copy().fillna(0)\n",
    "user_similarity = cosine_similarity(matrix_dummy, matrix_dummy)\n",
    "user_similarity = pd.DataFrame(user_similarity, index=rating_matrix.index, columns=rating_matrix.index)\n",
    "\n",
    "# train 데이터의 user의 rating 평균과 영화의 평점편차 계산 \n",
    "rating_mean = rating_matrix.mean(axis=1)\n",
    "rating_bias = (rating_matrix.T - rating_mean).T"
   ]
  },
  {
   "cell_type": "code",
   "execution_count": 3,
   "metadata": {},
   "outputs": [
    {
     "data": {
      "text/plain": [
       "0.9447183274246942"
      ]
     },
     "execution_count": 3,
     "metadata": {},
     "output_type": "execute_result"
    }
   ],
   "source": [
    "##### (1)\n",
    "\n",
    "# 사용자별 공통 평가 수 계산\n",
    "rating_binary1 = np.array((rating_matrix > 0).astype(float))\n",
    "rating_binary2 = rating_binary1.T\n",
    "counts = np.dot(rating_binary1, rating_binary2)\n",
    "counts = pd.DataFrame(counts, index=rating_matrix.index, columns=rating_matrix.index).fillna(0)\n",
    "\n",
    "def CF_knn_bias_sig(user_id, movie_id, neighbor_size=0):\n",
    "    if movie_id in rating_bias:\n",
    "        # 현 user와 다른 사용자 간의 유사도 가져오기\n",
    "        sim_scores = user_similarity[user_id]\n",
    "        # 현 movie의 평점편차 가져오기\n",
    "        movie_ratings = rating_bias[movie_id]\n",
    "        # 현 movie에 대한 rating이 없는 사용자 표시\n",
    "        no_rating = movie_ratings.isnull()\n",
    "        # 현 사용자와 다른 사용자간 공통 평가 아이템 수 가져오기 \n",
    "        common_counts = counts[user_id]\n",
    "        # 공통으로 평가한 영화의 수가 SIG_LEVEL보다 낮은 사용자 표시\n",
    "        low_significance = common_counts < SIG_LEVEL\n",
    "        # 평가를 안 하였거나, SIG_LEVEL이 기준 이하인 user 제거\n",
    "        none_rating_idx = movie_ratings[no_rating | low_significance].index\n",
    "        movie_ratings = movie_ratings.drop(none_rating_idx)\n",
    "        sim_scores = sim_scores.drop(none_rating_idx)\n",
    "##### (2) Neighbor size가 지정되지 않은 경우        \n",
    "        if neighbor_size == 0:\n",
    "            # 편차로 예측값(편차 예측값) 계산\n",
    "            prediction = np.dot(sim_scores, movie_ratings) / sim_scores.sum()\n",
    "            # 편차 예측값에 현 사용자의 평균 더하기\n",
    "            prediction = prediction + rating_mean[user_id]\n",
    "##### (3) Neighbor size가 지정된 경우            \n",
    "        else:\n",
    "            # 해당 영화를 평가한 사용자가 최소 MIN_RATINGS 이상인 경우에만 계산            \n",
    "            if len(sim_scores) > MIN_RATINGS:\n",
    "                # 지정된 neighbor size 값과 해당 영화를 평가한 총사용자 수 중 작은 것으로 결정\n",
    "                neighbor_size = min(neighbor_size, len(sim_scores))\n",
    "                # array로 바꾸기 (argsort를 사용하기 위함)\n",
    "                sim_scores = np.array(sim_scores)\n",
    "                movie_ratings = np.array(movie_ratings)\n",
    "                # 유사도를 순서대로 정렬\n",
    "                user_idx = np.argsort(sim_scores)\n",
    "                # 유사도와 rating을 neighbor size만큼 받기\n",
    "                sim_scores = sim_scores[user_idx][-neighbor_size:]\n",
    "                movie_ratings = movie_ratings[user_idx][-neighbor_size:]\n",
    "                # 편차로 예측치 계산\n",
    "                prediction = np.dot(sim_scores, movie_ratings) / sim_scores.sum()\n",
    "                # 예측값에 현 사용자의 평균 더하기\n",
    "                prediction = prediction + rating_mean[user_id]\n",
    "            else:\n",
    "                prediction = rating_mean[user_id]\n",
    "    else:\n",
    "        prediction = rating_mean[user_id]\n",
    "    return prediction\n",
    "\n",
    "SIG_LEVEL = 3\n",
    "MIN_RATINGS = 2\n",
    "score(CF_knn_bias_sig, 30)"
   ]
  },
  {
   "cell_type": "markdown",
   "metadata": {},
   "source": [
    "- 3-3 예측값이 1이하면 1로, 5이상이면 5로 수정하는 코드를 작성해서 실행해보고 결과를 비교해 보세요."
   ]
  },
  {
   "cell_type": "markdown",
   "metadata": {},
   "source": []
  }
 ],
 "metadata": {
  "kernelspec": {
   "display_name": "Python 3",
   "language": "python",
   "name": "python3"
  },
  "language_info": {
   "codemirror_mode": {
    "name": "ipython",
    "version": 3
   },
   "file_extension": ".py",
   "mimetype": "text/x-python",
   "name": "python",
   "nbconvert_exporter": "python",
   "pygments_lexer": "ipython3",
   "version": "3.8.20"
  }
 },
 "nbformat": 4,
 "nbformat_minor": 2
}
