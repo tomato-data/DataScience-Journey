{
 "cells": [
  {
   "cell_type": "code",
   "execution_count": 1,
   "metadata": {},
   "outputs": [
    {
     "name": "stdout",
     "output_type": "stream",
     "text": [
      "[[4. 0. 0.]\n",
      " [0. 3. 0.]\n",
      " [0. 0. 1.]]\n",
      "  (1, 2)\t4\n",
      "  (2, 3)\t3\n",
      "  (4, 7)\t1\n",
      "[[0 0 0 0 0 0 0 0]\n",
      " [0 0 4 0 0 0 0 0]\n",
      " [0 0 0 3 0 0 0 0]\n",
      " [0 0 0 0 0 0 0 0]\n",
      " [0 0 0 0 0 0 0 1]]\n",
      "  (1, 2)\t8\n",
      "  (2, 3)\t6\n",
      "  (4, 7)\t2\n",
      "  (2, 1)\t4\n",
      "  (3, 2)\t3\n",
      "  (7, 4)\t1\n",
      "  (1, 1)\t16\n",
      "  (2, 2)\t9\n",
      "  (4, 4)\t1\n"
     ]
    }
   ],
   "source": [
    "# Sparse matrix - 기본\n",
    "\n",
    "import numpy as np\n",
    "import pandas as pd\n",
    "from scipy.sparse import csr_matrix\n",
    "\n",
    "ratings = {'user_id': [1,2,4], \n",
    "     'movie_id': [2,3,7], \n",
    "     'rating': [4,3,1]}\n",
    "ratings = pd.DataFrame(ratings)\n",
    "\n",
    "# Pandas pivot을 이용해서 full matrix로 변환하는 경우\n",
    "rating_matrix = ratings.pivot(index = 'user_id', columns ='movie_id', \n",
    "                values = 'rating').fillna(0)\n",
    "full_matrix1 = np.array(rating_matrix)\n",
    "print(full_matrix1)\n",
    " \n",
    "# Sparse matrix를 이용해서 full matrix로 변환하는 경우\n",
    "data = np.array(ratings['rating'])\n",
    "row_indices = np.array(ratings['user_id'])\n",
    "col_indices = np.array(ratings['movie_id'])\n",
    "rating_matrix = csr_matrix((data, (row_indices, col_indices)), \n",
    "                dtype=int)\n",
    "print(rating_matrix)\n",
    "\n",
    "full_matrix2 = rating_matrix.toarray()\n",
    "print(full_matrix2)\n",
    "\n",
    "# sparse matrix 계산 \n",
    "print(rating_matrix * 2)\n",
    "print(rating_matrix.T)\n",
    "print(rating_matrix.dot(rating_matrix.T))\n"
   ]
  },
  {
   "cell_type": "code",
   "execution_count": null,
   "metadata": {},
   "outputs": [],
   "source": []
  }
 ],
 "metadata": {
  "kernelspec": {
   "display_name": "Python 3",
   "language": "python",
   "name": "python3"
  },
  "language_info": {
   "codemirror_mode": {
    "name": "ipython",
    "version": 3
   },
   "file_extension": ".py",
   "mimetype": "text/x-python",
   "name": "python",
   "nbconvert_exporter": "python",
   "pygments_lexer": "ipython3",
   "version": "3.8.20"
  }
 },
 "nbformat": 4,
 "nbformat_minor": 2
}
