{
 "cells": [
  {
   "cell_type": "code",
   "execution_count": 9,
   "metadata": {},
   "outputs": [],
   "source": [
    "from interpret.glassbox import ExplainableBoostingClassifier\n",
    "from interpret import show\n",
    "from interpret.perf import ROC\n",
    "\n",
    "import numpy as np\n",
    "import pandas as pd\n",
    "from sklearn.model_selection import train_test_split\n",
    "from sklearn.feature_extraction.text import TfidfVectorizer\n",
    "from sklearn.preprocessing import OneHotEncoder\n",
    "from sklearn.metrics.pairwise import cosine_similarity\n",
    "from typing import List\n",
    "from sklearn.metrics import ndcg_score, average_precision_score\n",
    "\n",
    "from sklearn.tree import DecisionTreeClassifier\n",
    "from sklearn.ensemble import RandomForestClassifier\n",
    "from lightgbm import LGBMClassifier"
   ]
  },
  {
   "cell_type": "code",
   "execution_count": 15,
   "metadata": {},
   "outputs": [],
   "source": [
    "data_path = \"../data/anime/\"\n",
    "\n",
    "# Read the dataset\n",
    "animes = pd.read_csv(data_path + \"anime.csv\")\n",
    "ratings = pd.read_csv(data_path + \"rating.csv\")\n",
    "\n",
    "ratings = ratings.sample(1_000_000, random_state=42)"
   ]
  },
  {
   "cell_type": "code",
   "execution_count": 16,
   "metadata": {},
   "outputs": [
    {
     "name": "stderr",
     "output_type": "stream",
     "text": [
      "/opt/anaconda3/envs/tf-env/lib/python3.8/site-packages/sklearn/preprocessing/_encoders.py:975: FutureWarning: `sparse` was renamed to `sparse_output` in version 1.2 and will be removed in 1.4. `sparse_output` is ignored unless you leave `sparse` to its default value.\n",
      "  warnings.warn(\n"
     ]
    }
   ],
   "source": [
    "# 사용하는 피처만 남김\n",
    "animes = animes[[\"anime_id\", \"type\", \"rating\", \"members\", \"name\", \"genre\"]]\n",
    "# 칼럼명 변경\n",
    "animes.columns = [\"anime_id\", \"type\", \"anime_total_rating\", \"members\", \"name\", \"genre\"]\n",
    "# 결측값이 포함된 애니는 drop\n",
    "animes = animes.dropna()\n",
    "\n",
    "\n",
    "# 평점 테이블도 동일하게 처리, 무효한 값은 제거 (rating이 -1인 값)\n",
    "ratings = ratings[[\"user_id\", \"anime_id\", \"rating\"]]\n",
    "ratings = ratings[ratings[\"rating\"] != -1]\n",
    "\n",
    "# 데이터 프레임 join\n",
    "data = ratings.merge(animes, on=\"anime_id\", how=\"inner\")\n",
    "\n",
    "# 유저 정보가 없으므로, 유저의 평점 패턴에서 유저 피처 추출 (평균 평점 및 평점을 내린 수)\n",
    "user_avg_rating = data.groupby(\"user_id\")[\"rating\"].mean().rename(\"User-AvgRating\")\n",
    "user_num_ratings = data.groupby(\"user_id\")[\"rating\"].count().rename(\"User-NumRatings\")\n",
    "\n",
    "# 추출한 유저 피처 결합\n",
    "user_features = pd.concat([user_avg_rating, user_num_ratings], axis=1)\n",
    "\n",
    "# 애니 메타 데이터에서 아이템 관련 피처 수가 생성\n",
    "item_num_ratings = data.groupby(\"anime_id\")[\"rating\"].count().rename(\"Item-NumRatings\")\n",
    "\n",
    "# 애니 이름 피처에서 TF-IDF 피처 생성, 총 10개의 이름 생성 (most frequent 10 words)\n",
    "tfidf_vectorizer = TfidfVectorizer(max_features=10)\n",
    "item_name_tfidf = tfidf_vectorizer.fit_transform(animes[\"name\"]).toarray()\n",
    "\n",
    "tfidf_feature_names = tfidf_vectorizer.get_feature_names_out()\n",
    "\n",
    "# 'type' 칼럼을 원핫 인코딩\n",
    "onehot_encoder = OneHotEncoder(sparse=False)\n",
    "item_type_onehot = onehot_encoder.fit_transform(animes[[\"type\"]])\n",
    "\n",
    "# TF-IDF 피처와 type 원핫 피처를 결합\n",
    "tf_idf_df = pd.DataFrame(\n",
    "    item_name_tfidf, columns=tfidf_feature_names, index=animes.anime_id\n",
    ")\n",
    "type_df = pd.DataFrame(\n",
    "    item_type_onehot,\n",
    "    columns=[f\"Type-{cat}\" for cat in onehot_encoder.categories_[0]],\n",
    "    index=animes.anime_id,\n",
    ")\n",
    "\n",
    "animes_features = animes[[\"anime_id\", \"members\", \"anime_total_rating\"]]\n",
    "\n",
    "\n",
    "item_features = (\n",
    "    pd.DataFrame(item_num_ratings)\n",
    "    .merge(tf_idf_df, on=\"anime_id\")\n",
    "    .merge(type_df, on=\"anime_id\")\n",
    "    .merge(animes_features.set_index(\"anime_id\"), on=\"anime_id\")\n",
    ")\n",
    "\n",
    "\n",
    "# 인터렉션 데이터와 함께, user 및 item 피처 결합\n",
    "data = data.drop([\"anime_total_rating\", \"members\"], axis=1)\n",
    "\n",
    "data = data.join(user_features, on=\"user_id\")\n",
    "data = data.merge(item_features, on=\"anime_id\")\n",
    "\n",
    "# implicit feedback 표현을 위해 이진화 (유저의 평균 평점보다 높은 경우 1)\n",
    "# 절대값으로 지정하는 방법도 있음\n",
    "data[\"rating\"] = (data[\"rating\"] > data[\"User-AvgRating\"]).astype(int)\n",
    "\n",
    "# Train-test split\n",
    "X = data.drop(columns=[\"user_id\", \"anime_id\", \"rating\", \"type\", \"name\", \"genre\"])\n",
    "y = data[\"rating\"]\n",
    "\n",
    "X_train, X_test, y_train, y_test = train_test_split(\n",
    "    X, y, test_size=0.2, random_state=42\n",
    ")"
   ]
  },
  {
   "cell_type": "code",
   "execution_count": 17,
   "metadata": {},
   "outputs": [],
   "source": [
    "import matplotlib.pyplot as plt\n",
    "from sklearn.metrics import roc_curve, auc\n",
    "from sklearn.metrics import roc_auc_score\n",
    "from tqdm import tqdm\n",
    "from lightgbm import LGBMClassifier\n",
    "from sklearn.ensemble import RandomForestClassifier"
   ]
  },
  {
   "cell_type": "code",
   "execution_count": 18,
   "metadata": {},
   "outputs": [
    {
     "name": "stderr",
     "output_type": "stream",
     "text": [
      "  0%|          | 0/2 [00:00<?, ?it/s]"
     ]
    },
    {
     "name": "stdout",
     "output_type": "stream",
     "text": [
      "Training LGBM with 1000 samples...\n",
      "[LightGBM] [Info] Number of positive: 515, number of negative: 485\n",
      "[LightGBM] [Info] Auto-choosing row-wise multi-threading, the overhead of testing was 0.000706 seconds.\n",
      "You can set `force_row_wise=true` to remove the overhead.\n",
      "And if memory is not enough, you can set `force_col_wise=true`.\n",
      "[LightGBM] [Info] Total Bins 1081\n",
      "[LightGBM] [Info] Number of data points in the train set: 1000, number of used features: 15\n",
      "[LightGBM] [Info] [binary:BoostFromScore]: pavg=0.515000 -> initscore=0.060018\n",
      "[LightGBM] [Info] Start training from score 0.060018\n"
     ]
    },
    {
     "name": "stderr",
     "output_type": "stream",
     "text": [
      " 50%|█████     | 1/2 [00:00<00:00,  1.10it/s]"
     ]
    },
    {
     "name": "stdout",
     "output_type": "stream",
     "text": [
      "LGBM AUC: 0.6622325077028113\n",
      "Training EBM with 1000 samples...\n"
     ]
    },
    {
     "name": "stderr",
     "output_type": "stream",
     "text": [
      "100%|██████████| 2/2 [00:04<00:00,  2.07s/it]\n"
     ]
    },
    {
     "name": "stdout",
     "output_type": "stream",
     "text": [
      "EBM AUC: 0.7085381610279802\n"
     ]
    },
    {
     "name": "stderr",
     "output_type": "stream",
     "text": [
      "  0%|          | 0/2 [00:00<?, ?it/s]"
     ]
    },
    {
     "name": "stdout",
     "output_type": "stream",
     "text": [
      "Training LGBM with 10000 samples...\n",
      "[LightGBM] [Info] Number of positive: 5099, number of negative: 4901\n",
      "[LightGBM] [Info] Auto-choosing row-wise multi-threading, the overhead of testing was 0.000854 seconds.\n",
      "You can set `force_row_wise=true` to remove the overhead.\n",
      "And if memory is not enough, you can set `force_col_wise=true`.\n",
      "[LightGBM] [Info] Total Bins 1335\n",
      "[LightGBM] [Info] Number of data points in the train set: 10000, number of used features: 21\n",
      "[LightGBM] [Info] [binary:BoostFromScore]: pavg=0.509900 -> initscore=0.039605\n",
      "[LightGBM] [Info] Start training from score 0.039605\n"
     ]
    },
    {
     "name": "stderr",
     "output_type": "stream",
     "text": [
      " 50%|█████     | 1/2 [00:00<00:00,  1.50it/s]"
     ]
    },
    {
     "name": "stdout",
     "output_type": "stream",
     "text": [
      "LGBM AUC: 0.7388504851694132\n",
      "Training EBM with 10000 samples...\n"
     ]
    },
    {
     "name": "stderr",
     "output_type": "stream",
     "text": [
      "100%|██████████| 2/2 [00:07<00:00,  3.81s/it]\n"
     ]
    },
    {
     "name": "stdout",
     "output_type": "stream",
     "text": [
      "EBM AUC: 0.7481111296090163\n"
     ]
    },
    {
     "name": "stderr",
     "output_type": "stream",
     "text": [
      "  0%|          | 0/2 [00:00<?, ?it/s]"
     ]
    },
    {
     "name": "stdout",
     "output_type": "stream",
     "text": [
      "Training LGBM with 100000 samples...\n",
      "[LightGBM] [Info] Number of positive: 50622, number of negative: 49378\n",
      "[LightGBM] [Info] Auto-choosing row-wise multi-threading, the overhead of testing was 0.002849 seconds.\n",
      "You can set `force_row_wise=true` to remove the overhead.\n",
      "And if memory is not enough, you can set `force_col_wise=true`.\n",
      "[LightGBM] [Info] Total Bins 1439\n",
      "[LightGBM] [Info] Number of data points in the train set: 100000, number of used features: 21\n",
      "[LightGBM] [Info] [binary:BoostFromScore]: pavg=0.506220 -> initscore=0.024881\n",
      "[LightGBM] [Info] Start training from score 0.024881\n"
     ]
    },
    {
     "name": "stderr",
     "output_type": "stream",
     "text": [
      " 50%|█████     | 1/2 [00:01<00:01,  1.03s/it]"
     ]
    },
    {
     "name": "stdout",
     "output_type": "stream",
     "text": [
      "LGBM AUC: 0.7546555091491538\n",
      "Training EBM with 100000 samples...\n"
     ]
    },
    {
     "name": "stderr",
     "output_type": "stream",
     "text": [
      "100%|██████████| 2/2 [01:00<00:00, 30.05s/it]"
     ]
    },
    {
     "name": "stdout",
     "output_type": "stream",
     "text": [
      "EBM AUC: 0.7558641189078126\n"
     ]
    },
    {
     "name": "stderr",
     "output_type": "stream",
     "text": [
      "\n"
     ]
    },
    {
     "data": {
      "image/png": "[encoded data removed]",
      "text/plain": [
       "<Figure size 640x480 with 1 Axes>"
      ]
     },
     "metadata": {},
     "output_type": "display_data"
    }
   ],
   "source": [
    "# 데이터셋 사이즈 지정\n",
    "dataset_sizes = [1_000, 10_000, 100_000]\n",
    "\n",
    "# 각 모델 별 auc score를 저장하기 위해 딕셔너리 정의\n",
    "auc_scores = {model_name: [] for model_name in models.keys()}\n",
    "\n",
    "# 각 모델 별 roc curve 정보 저장을 위해 딕셔너리 정의\n",
    "roc_curves = {model_name: [] for model_name in models.keys()}\n",
    "\n",
    "# 모델 정의\n",
    "models = {\n",
    "    \"LGBM\": LGBMClassifier(random_state=42),\n",
    "    \"EBM\": ExplainableBoostingClassifier(random_state=42),\n",
    "}\n",
    "\n",
    "# 데이터 사이즈별로 iteration\n",
    "for size in dataset_sizes:\n",
    "    # 각 사이즈별로 데이터를 샘플링함\n",
    "    X_train_sample = X_train.sample(n=size, random_state=42)\n",
    "    y_train_sample = y_train.loc[X_train_sample.index]\n",
    "\n",
    "    # 모델 별로 반복\n",
    "    for model_name, model in tqdm(models.items()):\n",
    "        print(f\"Training {model_name} with {size} samples...\")\n",
    "\n",
    "        # 모델 적합\n",
    "        model.fit(X_train_sample, y_train_sample)\n",
    "\n",
    "        # 예측 결과 생성\n",
    "        y_pred = model.predict_proba(X_test)[:, 1]\n",
    "\n",
    "        # AUC 점수 계산\n",
    "        auc_score = roc_auc_score(y_test, y_pred)\n",
    "        auc_scores[model_name].append(auc_score)\n",
    "\n",
    "        # ROC 곡선\n",
    "        fpr, tpr, thresholds = roc_curve(y_test, y_pred)\n",
    "        roc_curves[model_name].append((fpr, tpr))\n",
    "\n",
    "        print(f\"{model_name} AUC: {auc_score}\")\n",
    "\n",
    "\n",
    "# AUC 스코어 시각화\n",
    "for model_name, model_auc_scores in auc_scores.items():\n",
    "    plt.plot(dataset_sizes, model_auc_scores, label=model_name)\n",
    "plt.xlabel(\"Training dataset size\")\n",
    "plt.ylabel(\"AUC score\")\n",
    "plt.legend()\n",
    "plt.show()"
   ]
  },
  {
   "cell_type": "code",
   "execution_count": 19,
   "metadata": {},
   "outputs": [
    {
     "ename": "KeyboardInterrupt",
     "evalue": "",
     "output_type": "error",
     "traceback": [
      "\u001b[0;31m---------------------------------------------------------------------------\u001b[0m",
      "\u001b[0;31mKeyboardInterrupt\u001b[0m                         Traceback (most recent call last)",
      "File \u001b[0;32m<timed exec>:8\u001b[0m\n",
      "File \u001b[0;32m/opt/anaconda3/envs/tf-env/lib/python3.8/site-packages/interpret/glassbox/_ebm/_ebm.py:979\u001b[0m, in \u001b[0;36mEBMModel.fit\u001b[0;34m(self, X, y, sample_weight, bags, init_score)\u001b[0m\n\u001b[1;32m    940\u001b[0m         init_score_local \u001b[38;5;241m=\u001b[39m init_score_local[bag \u001b[38;5;241m!=\u001b[39m \u001b[38;5;241m0\u001b[39m]\n\u001b[1;32m    942\u001b[0m     parallel_args\u001b[38;5;241m.\u001b[39mappend(\n\u001b[1;32m    943\u001b[0m         (\n\u001b[1;32m    944\u001b[0m             dataset,\n\u001b[0;32m   (...)\u001b[0m\n\u001b[1;32m    976\u001b[0m         )\n\u001b[1;32m    977\u001b[0m     )\n\u001b[0;32m--> 979\u001b[0m results \u001b[38;5;241m=\u001b[39m \u001b[43mprovider\u001b[49m\u001b[38;5;241;43m.\u001b[39;49m\u001b[43mparallel\u001b[49m\u001b[43m(\u001b[49m\u001b[43mboost\u001b[49m\u001b[43m,\u001b[49m\u001b[43m \u001b[49m\u001b[43mparallel_args\u001b[49m\u001b[43m)\u001b[49m\n\u001b[1;32m    981\u001b[0m \u001b[38;5;66;03m# let python reclaim the dataset memory via reference counting\u001b[39;00m\n\u001b[1;32m    982\u001b[0m \u001b[38;5;66;03m# parallel_args holds references to dataset, so must be deleted\u001b[39;00m\n\u001b[1;32m    983\u001b[0m \u001b[38;5;28;01mdel\u001b[39;00m parallel_args\n",
      "File \u001b[0;32m/opt/anaconda3/envs/tf-env/lib/python3.8/site-packages/interpret/provider/_compute.py:20\u001b[0m, in \u001b[0;36mJobLibProvider.parallel\u001b[0;34m(self, compute_fn, compute_args_iter)\u001b[0m\n\u001b[1;32m     19\u001b[0m \u001b[38;5;28;01mdef\u001b[39;00m \u001b[38;5;21mparallel\u001b[39m(\u001b[38;5;28mself\u001b[39m, compute_fn, compute_args_iter):\n\u001b[0;32m---> 20\u001b[0m     \u001b[38;5;28;01mreturn\u001b[39;00m \u001b[43mParallel\u001b[49m\u001b[43m(\u001b[49m\u001b[43mn_jobs\u001b[49m\u001b[38;5;241;43m=\u001b[39;49m\u001b[38;5;28;43mself\u001b[39;49m\u001b[38;5;241;43m.\u001b[39;49m\u001b[43mn_jobs\u001b[49m\u001b[43m)\u001b[49m\u001b[43m(\u001b[49m\n\u001b[1;32m     21\u001b[0m \u001b[43m        \u001b[49m\u001b[43mdelayed\u001b[49m\u001b[43m(\u001b[49m\u001b[43mcompute_fn\u001b[49m\u001b[43m)\u001b[49m\u001b[43m(\u001b[49m\u001b[38;5;241;43m*\u001b[39;49m\u001b[43margs\u001b[49m\u001b[43m)\u001b[49m\u001b[43m \u001b[49m\u001b[38;5;28;43;01mfor\u001b[39;49;00m\u001b[43m \u001b[49m\u001b[43margs\u001b[49m\u001b[43m \u001b[49m\u001b[38;5;129;43;01min\u001b[39;49;00m\u001b[43m \u001b[49m\u001b[43mcompute_args_iter\u001b[49m\n\u001b[1;32m     22\u001b[0m \u001b[43m    \u001b[49m\u001b[43m)\u001b[49m\n",
      "File \u001b[0;32m/opt/anaconda3/envs/tf-env/lib/python3.8/site-packages/joblib/parallel.py:2007\u001b[0m, in \u001b[0;36mParallel.__call__\u001b[0;34m(self, iterable)\u001b[0m\n\u001b[1;32m   2001\u001b[0m \u001b[38;5;66;03m# The first item from the output is blank, but it makes the interpreter\u001b[39;00m\n\u001b[1;32m   2002\u001b[0m \u001b[38;5;66;03m# progress until it enters the Try/Except block of the generator and\u001b[39;00m\n\u001b[1;32m   2003\u001b[0m \u001b[38;5;66;03m# reaches the first `yield` statement. This starts the asynchronous\u001b[39;00m\n\u001b[1;32m   2004\u001b[0m \u001b[38;5;66;03m# dispatch of the tasks to the workers.\u001b[39;00m\n\u001b[1;32m   2005\u001b[0m \u001b[38;5;28mnext\u001b[39m(output)\n\u001b[0;32m-> 2007\u001b[0m \u001b[38;5;28;01mreturn\u001b[39;00m output \u001b[38;5;28;01mif\u001b[39;00m \u001b[38;5;28mself\u001b[39m\u001b[38;5;241m.\u001b[39mreturn_generator \u001b[38;5;28;01melse\u001b[39;00m \u001b[38;5;28;43mlist\u001b[39;49m\u001b[43m(\u001b[49m\u001b[43moutput\u001b[49m\u001b[43m)\u001b[49m\n",
      "File \u001b[0;32m/opt/anaconda3/envs/tf-env/lib/python3.8/site-packages/joblib/parallel.py:1650\u001b[0m, in \u001b[0;36mParallel._get_outputs\u001b[0;34m(self, iterator, pre_dispatch)\u001b[0m\n\u001b[1;32m   1647\u001b[0m     \u001b[38;5;28;01myield\u001b[39;00m\n\u001b[1;32m   1649\u001b[0m     \u001b[38;5;28;01mwith\u001b[39;00m \u001b[38;5;28mself\u001b[39m\u001b[38;5;241m.\u001b[39m_backend\u001b[38;5;241m.\u001b[39mretrieval_context():\n\u001b[0;32m-> 1650\u001b[0m         \u001b[38;5;28;01myield from\u001b[39;00m \u001b[38;5;28mself\u001b[39m\u001b[38;5;241m.\u001b[39m_retrieve()\n\u001b[1;32m   1652\u001b[0m \u001b[38;5;28;01mexcept\u001b[39;00m \u001b[38;5;167;01mGeneratorExit\u001b[39;00m:\n\u001b[1;32m   1653\u001b[0m     \u001b[38;5;66;03m# The generator has been garbage collected before being fully\u001b[39;00m\n\u001b[1;32m   1654\u001b[0m     \u001b[38;5;66;03m# consumed. This aborts the remaining tasks if possible and warn\u001b[39;00m\n\u001b[1;32m   1655\u001b[0m     \u001b[38;5;66;03m# the user if necessary.\u001b[39;00m\n\u001b[1;32m   1656\u001b[0m     \u001b[38;5;28mself\u001b[39m\u001b[38;5;241m.\u001b[39m_exception \u001b[38;5;241m=\u001b[39m \u001b[38;5;28;01mTrue\u001b[39;00m\n",
      "File \u001b[0;32m/opt/anaconda3/envs/tf-env/lib/python3.8/site-packages/joblib/parallel.py:1762\u001b[0m, in \u001b[0;36mParallel._retrieve\u001b[0;34m(self)\u001b[0m\n\u001b[1;32m   1757\u001b[0m \u001b[38;5;66;03m# If the next job is not ready for retrieval yet, we just wait for\u001b[39;00m\n\u001b[1;32m   1758\u001b[0m \u001b[38;5;66;03m# async callbacks to progress.\u001b[39;00m\n\u001b[1;32m   1759\u001b[0m \u001b[38;5;28;01mif\u001b[39;00m ((\u001b[38;5;28mlen\u001b[39m(\u001b[38;5;28mself\u001b[39m\u001b[38;5;241m.\u001b[39m_jobs) \u001b[38;5;241m==\u001b[39m \u001b[38;5;241m0\u001b[39m) \u001b[38;5;129;01mor\u001b[39;00m\n\u001b[1;32m   1760\u001b[0m     (\u001b[38;5;28mself\u001b[39m\u001b[38;5;241m.\u001b[39m_jobs[\u001b[38;5;241m0\u001b[39m]\u001b[38;5;241m.\u001b[39mget_status(\n\u001b[1;32m   1761\u001b[0m         timeout\u001b[38;5;241m=\u001b[39m\u001b[38;5;28mself\u001b[39m\u001b[38;5;241m.\u001b[39mtimeout) \u001b[38;5;241m==\u001b[39m TASK_PENDING)):\n\u001b[0;32m-> 1762\u001b[0m     \u001b[43mtime\u001b[49m\u001b[38;5;241;43m.\u001b[39;49m\u001b[43msleep\u001b[49m\u001b[43m(\u001b[49m\u001b[38;5;241;43m0.01\u001b[39;49m\u001b[43m)\u001b[49m\n\u001b[1;32m   1763\u001b[0m     \u001b[38;5;28;01mcontinue\u001b[39;00m\n\u001b[1;32m   1765\u001b[0m \u001b[38;5;66;03m# We need to be careful: the job list can be filling up as\u001b[39;00m\n\u001b[1;32m   1766\u001b[0m \u001b[38;5;66;03m# we empty it and Python list are not thread-safe by\u001b[39;00m\n\u001b[1;32m   1767\u001b[0m \u001b[38;5;66;03m# default hence the use of the lock\u001b[39;00m\n",
      "\u001b[0;31mKeyboardInterrupt\u001b[0m: "
     ]
    }
   ],
   "source": [
    "%%time\n",
    "# 100만개 기준 54분\n",
    "# 10만개 기준 8분\n",
    "\n",
    "# EBM 모델 인스턴스 생성\n",
    "ebm = ExplainableBoostingClassifier(random_state=42)\n",
    "\n",
    "# 모델 적합 \n",
    "ebm.fit(X_train, y_train)"
   ]
  },
  {
   "cell_type": "code",
   "execution_count": null,
   "metadata": {},
   "outputs": [],
   "source": [
    "# 모델 성능 평가 -> ROC 기준\n",
    "roc = ROC(ebm.predict_proba).explain_perf(X_test, y_test, name=\"ROC\")\n",
    "show(roc)"
   ]
  },
  {
   "cell_type": "code",
   "execution_count": null,
   "metadata": {},
   "outputs": [],
   "source": []
  }
 ],
 "metadata": {
  "kernelspec": {
   "display_name": "Python 3",
   "language": "python",
   "name": "python3"
  },
  "language_info": {
   "codemirror_mode": {
    "name": "ipython",
    "version": 3
   },
   "file_extension": ".py",
   "mimetype": "text/x-python",
   "name": "python",
   "nbconvert_exporter": "python",
   "pygments_lexer": "ipython3",
   "version": "3.8.20"
  }
 },
 "nbformat": 4,
 "nbformat_minor": 2
}
