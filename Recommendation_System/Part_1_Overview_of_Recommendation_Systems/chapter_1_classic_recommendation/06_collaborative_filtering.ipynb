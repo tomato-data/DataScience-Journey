{
 "cells": [
  {
   "cell_type": "code",
   "execution_count": 1,
   "metadata": {},
   "outputs": [],
   "source": [
    "import pandas as pd\n",
    "import numpy as np\n",
    "from sklearn.metrics.pairwise import cosine_similarity\n",
    "from sklearn.model_selection import train_test_split\n",
    "from sklearn.metrics import precision_score, recall_score\n",
    "import requests\n",
    "import zipfile\n",
    "import os"
   ]
  },
  {
   "cell_type": "code",
   "execution_count": 3,
   "metadata": {},
   "outputs": [
    {
     "name": "stdout",
     "output_type": "stream",
     "text": [
      "Books columns: Index(['ISBN', 'Book-Title', 'Book-Author', 'Year-Of-Publication', 'Publisher',\n",
      "       'Image-URL-S', 'Image-URL-M', 'Image-URL-L'],\n",
      "      dtype='object')\n",
      "Users columns: Index(['User-ID', 'Location', 'Age'], dtype='object')\n",
      "Ratings columns: Index(['User-ID', 'ISBN', 'Book-Rating'], dtype='object')\n"
     ]
    }
   ],
   "source": [
    "# Download and unzip the dataset\n",
    "data_path = \"./data/\"\n",
    "\n",
    "# Load the data with proper dtype handling\n",
    "books = pd.read_csv(\n",
    "    data_path + \"BX-Books.csv\",\n",
    "    sep=\",\",\n",
    "    header=0,\n",
    "    index_col=0,\n",
    "    on_bad_lines=\"skip\",\n",
    "    encoding=\"latin-1\",\n",
    "    low_memory=False,  # Option to avoid DtypeWarning\n",
    ")\n",
    "\n",
    "users = pd.read_csv(\n",
    "    data_path + \"BX-Users.csv\",\n",
    "    sep=\",\",\n",
    "    header=0,\n",
    "    index_col=0,\n",
    "    on_bad_lines=\"skip\",\n",
    "    encoding=\"latin-1\",\n",
    "    low_memory=False,  # Option to avoid DtypeWarning\n",
    ")\n",
    "\n",
    "ratings = pd.read_csv(\n",
    "    data_path + \"BX-Book-Ratings.csv\",\n",
    "    sep=\",\",\n",
    "    header=0,\n",
    "    index_col=0,\n",
    "    on_bad_lines=\"skip\",\n",
    "    encoding=\"latin-1\",\n",
    "    low_memory=False,  # Option to avoid DtypeWarning\n",
    ")\n",
    "\n",
    "# Print the column names to check for 'ISBN'\n",
    "print(\"Books columns:\", books.columns)\n",
    "print(\"Users columns:\", users.columns)\n",
    "print(\"Ratings columns:\", ratings.columns)"
   ]
  },
  {
   "cell_type": "code",
   "execution_count": 4,
   "metadata": {},
   "outputs": [],
   "source": [
    "# Preprocess the data\n",
    "ratings = ratings.merge(books[[\"ISBN\", \"Book-Title\"]], on=\"ISBN\")\n",
    "ratings = ratings.drop([\"ISBN\"], axis=1)"
   ]
  },
  {
   "cell_type": "code",
   "execution_count": 5,
   "metadata": {},
   "outputs": [],
   "source": [
    "# Filter books with at least min_book_ratings ratings\n",
    "min_book_ratings = 10\n",
    "book_rating_counts = ratings[\"Book-Title\"].value_counts()\n",
    "filtered_books = book_rating_counts[book_rating_counts >= min_book_ratings].index\n",
    "ratings = ratings[ratings[\"Book-Title\"].isin(filtered_books)]\n",
    "\n",
    "# Filter users who rated at least min_user_ratings books\n",
    "min_user_ratings = 5\n",
    "user_rating_counts = ratings[\"User-ID\"].value_counts()\n",
    "filtered_users = user_rating_counts[user_rating_counts >= min_user_ratings].index\n",
    "ratings = ratings[ratings[\"User-ID\"].isin(filtered_users)]\n",
    "\n",
    "# Create the user-item matrix\n",
    "user_item_matrix = ratings.pivot_table(\n",
    "    index=\"User-ID\", columns=\"Book-Title\", values=\"Book-Rating\"\n",
    ").fillna(0)"
   ]
  },
  {
   "cell_type": "code",
   "execution_count": 6,
   "metadata": {},
   "outputs": [],
   "source": [
    "# Compute the cosine similarity matrix\n",
    "cosine_sim_matrix = cosine_similarity(user_item_matrix)"
   ]
  },
  {
   "cell_type": "code",
   "execution_count": 7,
   "metadata": {},
   "outputs": [],
   "source": [
    "# Split user indices into train and test sets\n",
    "user_indices = np.arange(user_item_matrix.shape[0])\n",
    "train_user_indices, test_user_indices = train_test_split(\n",
    "    user_indices, test_size=0.2, random_state=42\n",
    ")"
   ]
  },
  {
   "cell_type": "code",
   "execution_count": 8,
   "metadata": {},
   "outputs": [],
   "source": [
    "def collaborative_filtering_recommendation(user_index, k=10):\n",
    "    user_similarities = cosine_sim_matrix[user_index]\n",
    "    top_k_similar_users = np.argsort(user_similarities)[-k - 1 : -1][::-1]\n",
    "    similar_users_ratings = user_item_matrix.iloc[top_k_similar_users]\n",
    "    mean_ratings = similar_users_ratings.mean(axis=0)\n",
    "    top_k_books = mean_ratings.sort_values(ascending=False).head(k).index\n",
    "    return top_k_books"
   ]
  },
  {
   "cell_type": "code",
   "execution_count": 9,
   "metadata": {},
   "outputs": [
    {
     "name": "stdout",
     "output_type": "stream",
     "text": [
      "Random Score-Based Recommendations:\n",
      "1. Man from Mundania (Xanth Trilogy, No 12)\n",
      "2. Dawn's Wicked Stepsister (Baby-Sitters Club, 31)\n",
      "3. The Five Love Languages of Children\n",
      "4. Diary of a Nobody\n",
      "5. The Twisted Root\n",
      "6. Lying in Wait: A J.P. Beaumont Mystery\n",
      "7. Material Girl (Berkley Sensation)\n",
      "8. Father'S Heart  (Family Man) (Superromance , No 786)\n",
      "9. Macbeth (Dover Thrift Editions)\n",
      "10. A Whole New Light\n"
     ]
    }
   ],
   "source": [
    "def random_recommendation(ratings, n=10):\n",
    "    unique_books = ratings[\"Book-Title\"].unique()\n",
    "    random_books = np.random.choice(unique_books, size=n, replace=False)\n",
    "    return random_books\n",
    "\n",
    "\n",
    "random_books = random_recommendation(ratings, n=10)\n",
    "print(\"Random Score-Based Recommendations:\")\n",
    "for i, book in enumerate(random_books, 1):\n",
    "    print(f\"{i}. {book}\")"
   ]
  },
  {
   "cell_type": "code",
   "execution_count": 10,
   "metadata": {},
   "outputs": [
    {
     "name": "stdout",
     "output_type": "stream",
     "text": [
      "\n",
      "Popularity-Based Recommendations:\n",
      "1. Wild Animus\n",
      "2. The Lovely Bones: A Novel\n",
      "3. The Da Vinci Code\n",
      "4. The Nanny Diaries: A Novel\n",
      "5. Bridget Jones's Diary\n",
      "6. A Painted House\n",
      "7. The Secret Life of Bees\n",
      "8. Divine Secrets of the Ya-Ya Sisterhood: A Novel\n",
      "9. Angels &amp; Demons\n",
      "10. Life of Pi\n"
     ]
    }
   ],
   "source": [
    "def popularity_recommendation(ratings, n=10):\n",
    "    popular_books = (\n",
    "        ratings.groupby(\"Book-Title\")[\"Book-Rating\"]\n",
    "        .count()\n",
    "        .sort_values(ascending=False)\n",
    "        .head(n)\n",
    "        .index\n",
    "    )\n",
    "    return popular_books\n",
    "\n",
    "\n",
    "popular_books = popularity_recommendation(ratings, n=10)\n",
    "print(\"\\nPopularity-Based Recommendations:\")\n",
    "for i, book in enumerate(popular_books, 1):\n",
    "    print(f\"{i}. {book}\")"
   ]
  },
  {
   "cell_type": "code",
   "execution_count": 11,
   "metadata": {},
   "outputs": [],
   "source": [
    "def recommend_books(user_index, strategy, k=10):\n",
    "    if strategy == \"collaborative\":\n",
    "        top_k_books = collaborative_filtering_recommendation(user_index, k=k)\n",
    "    elif strategy == \"random\":\n",
    "        top_k_books = random_recommendation(ratings, n=k)\n",
    "    elif strategy == \"popularity\":\n",
    "        top_k_books = popularity_recommendation(ratings, n=k)\n",
    "    else:\n",
    "        raise ValueError(\"Invalid recommendation strategy\")\n",
    "    return top_k_books"
   ]
  },
  {
   "cell_type": "code",
   "execution_count": 12,
   "metadata": {},
   "outputs": [],
   "source": [
    "def evaluate_model(strategy, k=10):\n",
    "    true_positive = 0\n",
    "    false_positive = 0\n",
    "    false_negative = 0\n",
    "\n",
    "    for user_index in test_user_indices:\n",
    "        true_books = set(\n",
    "            user_item_matrix.iloc[user_index][\n",
    "                user_item_matrix.iloc[user_index] > 0\n",
    "            ].index\n",
    "        )\n",
    "        recommended_books = set(recommend_books(user_index, strategy, k))\n",
    "\n",
    "        tp = len(true_books.intersection(recommended_books))\n",
    "        fp = len(recommended_books - true_books)\n",
    "        fn = len(true_books - recommended_books)\n",
    "\n",
    "        true_positive += tp\n",
    "        false_positive += fp\n",
    "        false_negative += fn\n",
    "\n",
    "    precision = true_positive / (true_positive + false_positive)\n",
    "    recall = true_positive / (true_positive + false_negative)\n",
    "\n",
    "    return precision, recall"
   ]
  },
  {
   "cell_type": "code",
   "execution_count": 13,
   "metadata": {},
   "outputs": [
    {
     "name": "stdout",
     "output_type": "stream",
     "text": [
      "Collaborative Filtering: Precision = 0.3110, Recall = 0.2601\n"
     ]
    }
   ],
   "source": [
    "# Evaluate the collaborative filtering model\n",
    "cf_precision, cf_recall = evaluate_model(strategy=\"collaborative\")\n",
    "print(\n",
    "    f\"Collaborative Filtering: Precision = {cf_precision:.4f}, Recall = {cf_recall:.4f}\"\n",
    ")"
   ]
  },
  {
   "cell_type": "code",
   "execution_count": 14,
   "metadata": {},
   "outputs": [
    {
     "name": "stdout",
     "output_type": "stream",
     "text": [
      "Random Score-Based: Precision = 0.0009, Recall = 0.0007\n"
     ]
    }
   ],
   "source": [
    "# Evaluate the random score-based recommendation model\n",
    "random_precision, random_recall = evaluate_model(strategy=\"random\")\n",
    "print(\n",
    "    f\"Random Score-Based: Precision = {random_precision:.4f}, Recall = {random_recall:.4f}\"\n",
    ")"
   ]
  },
  {
   "cell_type": "code",
   "execution_count": 15,
   "metadata": {},
   "outputs": [
    {
     "name": "stdout",
     "output_type": "stream",
     "text": [
      "Popularity-Based: Precision = 0.0200, Recall = 0.0167\n"
     ]
    }
   ],
   "source": [
    "# Evaluate the popularity-based recommendation model\n",
    "popularity_precision, popularity_recall = evaluate_model(strategy=\"popularity\")\n",
    "print(\n",
    "    f\"Popularity-Based: Precision = {popularity_precision:.4f}, Recall = {popularity_recall:.4f}\"\n",
    ")"
   ]
  },
  {
   "cell_type": "code",
   "execution_count": null,
   "metadata": {},
   "outputs": [],
   "source": []
  }
 ],
 "metadata": {
  "kernelspec": {
   "display_name": "Python 3",
   "language": "python",
   "name": "python3"
  },
  "language_info": {
   "codemirror_mode": {
    "name": "ipython",
    "version": 3
   },
   "file_extension": ".py",
   "mimetype": "text/x-python",
   "name": "python",
   "nbconvert_exporter": "python",
   "pygments_lexer": "ipython3",
   "version": "3.8.20"
  }
 },
 "nbformat": 4,
 "nbformat_minor": 2
}
