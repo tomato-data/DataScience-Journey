{
 "cells": [
  {
   "cell_type": "code",
   "execution_count": 1,
   "metadata": {},
   "outputs": [
    {
     "data": {
      "text/plain": [
       "12"
      ]
     },
     "execution_count": 1,
     "metadata": {},
     "output_type": "execute_result"
    }
   ],
   "source": [
    "def lin_comb(vlist, clist):\n",
    "    return sum([coeff * v for coeff, v in zip(vlist, clist)])\n",
    "\n",
    "vlist = [1, 2, 3]\n",
    "clist = [2, 2, 2]\n",
    "lin_comb(vlist, clist)"
   ]
  },
  {
   "cell_type": "code",
   "execution_count": 4,
   "metadata": {},
   "outputs": [
    {
     "data": {
      "text/plain": [
       "[Vec({'B', 'A', 'C'},{'B': 1.0}),\n",
       " Vec({'B', 'A', 'C'},{'A': 1.0}),\n",
       " Vec({'B', 'A', 'C'},{'C': 1.0})]"
      ]
     },
     "execution_count": 4,
     "metadata": {},
     "output_type": "execute_result"
    }
   ],
   "source": [
    "from resources.vec import Vec\n",
    "\n",
    "def standard(D, one):\n",
    "    return [Vec(D, {k: one / one}) for k in D]\n",
    "\n",
    "\n",
    "standard({\"A\", \"B\", \"C\"}, 2)"
   ]
  },
  {
   "cell_type": "code",
   "execution_count": null,
   "metadata": {},
   "outputs": [],
   "source": []
  }
 ],
 "metadata": {
  "kernelspec": {
   "display_name": "Python 3",
   "language": "python",
   "name": "python3"
  },
  "language_info": {
   "codemirror_mode": {
    "name": "ipython",
    "version": 3
   },
   "file_extension": ".py",
   "mimetype": "text/x-python",
   "name": "python",
   "nbconvert_exporter": "python",
   "pygments_lexer": "ipython3",
   "version": "3.8.20"
  }
 },
 "nbformat": 4,
 "nbformat_minor": 2
}
