{
 "cells": [
  {
   "cell_type": "code",
   "execution_count": 1,
   "metadata": {},
   "outputs": [
    {
     "data": {
      "text/plain": [
       "{3: 'three'}"
      ]
     },
     "execution_count": 1,
     "metadata": {},
     "output_type": "execute_result"
    }
   ],
   "source": [
    "# 표현식을 사용하여 키와 값을 명시할 수 있다\n",
    "{2+1: \"thr\"+\"ee\"}"
   ]
  },
  {
   "cell_type": "code",
   "execution_count": 4,
   "metadata": {},
   "outputs": [
    {
     "data": {
      "text/plain": [
       "['sean', 'roger', 'pierce']"
      ]
     },
     "execution_count": 4,
     "metadata": {},
     "output_type": "execute_result"
    }
   ],
   "source": [
    "# dlist\n",
    "dlist = [{'james':'sean', 'director':'terence'}, {'james':'roger', 'director':'lewis'},{'james':'pierce','director':'roger'}]\n",
    "k = 'james'\n",
    "[x[k] for x in dlist]"
   ]
  },
  {
   "cell_type": "code",
   "execution_count": 5,
   "metadata": {},
   "outputs": [
    {
     "data": {
      "text/plain": [
       "{3: 2, 4: 0, 100: 1}"
      ]
     },
     "execution_count": 5,
     "metadata": {},
     "output_type": "execute_result"
    }
   ],
   "source": [
    "# dictionary comprehension\n",
    "{k:v for (k,v) in [(3,2),(4,0),(100,1)]}"
   ]
  },
  {
   "cell_type": "code",
   "execution_count": 7,
   "metadata": {},
   "outputs": [
    {
     "name": "stdout",
     "output_type": "stream",
     "text": [
      "[8, 6]\n",
      "['a', 'b']\n"
     ]
    }
   ],
   "source": [
    "# 딕셔너리에 대해 이터레이션 하는 컴프리헨션\n",
    "print([2*x for x in {4:'a', 3:'b'}.keys()])\n",
    "print([x for x in {4:'a', 3:'b'}.values()])"
   ]
  },
  {
   "cell_type": "code",
   "execution_count": 8,
   "metadata": {},
   "outputs": [
    {
     "name": "stdout",
     "output_type": "stream",
     "text": [
      "['a', 'b', 'c']\n",
      "['b']\n"
     ]
    }
   ],
   "source": [
    "# 합집합과 교집합 연산자\n",
    "print([k for k in {'a':1, 'b':2}.keys() | {'b':3, 'c':4}.keys()])\n",
    "print([k for k in {'a':1, 'b':2}.keys() & {'b':3, 'c':4}.keys()])"
   ]
  },
  {
   "cell_type": "code",
   "execution_count": 9,
   "metadata": {},
   "outputs": [
    {
     "data": {
      "text/plain": [
       "[8, 8, 201]"
      ]
     },
     "execution_count": 9,
     "metadata": {},
     "output_type": "execute_result"
    }
   ],
   "source": [
    "[2*k+v for (k,v) in {4:0, 3:2, 100:1}.items()]"
   ]
  },
  {
   "cell_type": "code",
   "execution_count": null,
   "metadata": {},
   "outputs": [],
   "source": []
  }
 ],
 "metadata": {
  "kernelspec": {
   "display_name": "Python 3",
   "language": "python",
   "name": "python3"
  },
  "language_info": {
   "codemirror_mode": {
    "name": "ipython",
    "version": 3
   },
   "file_extension": ".py",
   "mimetype": "text/x-python",
   "name": "python",
   "nbconvert_exporter": "python",
   "pygments_lexer": "ipython3",
   "version": "3.8.20"
  }
 },
 "nbformat": 4,
 "nbformat_minor": 2
}
