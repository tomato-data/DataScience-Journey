{
 "cells": [
  {
   "cell_type": "markdown",
   "metadata": {},
   "source": [
    "### 2.4 복소수 필드 C 다루기"
   ]
  },
  {
   "cell_type": "code",
   "execution_count": 20,
   "metadata": {},
   "outputs": [],
   "source": [
    "from resources.plotting import plot"
   ]
  },
  {
   "cell_type": "code",
   "execution_count": 2,
   "metadata": {},
   "outputs": [],
   "source": [
    "S = {\n",
    "    2 + 2j,\n",
    "    3 + 2j,\n",
    "    1.75 + 1j,\n",
    "    2 + 1j,\n",
    "    2.25 + 1j,\n",
    "    2.5 + 1j,\n",
    "    2.75 + 1j,\n",
    "    3 + 1j,\n",
    "    3.25 + 1j,\n",
    "}\n",
    "plot(S, 4)"
   ]
  },
  {
   "cell_type": "code",
   "execution_count": 3,
   "metadata": {},
   "outputs": [],
   "source": [
    "# 평행이동\n",
    "plot({1+2j+z for z in S}, 4)"
   ]
  },
  {
   "cell_type": "code",
   "execution_count": 4,
   "metadata": {},
   "outputs": [],
   "source": [
    "# scaling\n",
    "plot({0.5*z for z in S}, 4)"
   ]
  },
  {
   "cell_type": "code",
   "execution_count": 7,
   "metadata": {},
   "outputs": [],
   "source": [
    "# rotate and scale\n",
    "plot({0.5 * 1j * z + 2 - 1j for z in S}, 4)"
   ]
  },
  {
   "cell_type": "code",
   "execution_count": 24,
   "metadata": {},
   "outputs": [],
   "source": [
    "# method found in github\n",
    "from PIL import Image\n",
    "import numpy as np"
   ]
  },
  {
   "cell_type": "code",
   "execution_count": 25,
   "metadata": {},
   "outputs": [],
   "source": [
    "data = Image.open(\"resources/img01.png\")  # 이미지 파일 불러오기\n",
    "# data = data.convert('L')\n",
    "data = (\n",
    "    np.asarray(data, dtype=\"float32\") / 255\n",
    ")  # 이미지 파일을 np.asarray를 이용해 배열로 만들기\n",
    "data = data.tolist()  # 리스트로 변환 하기\n",
    "pts = [\n",
    "    [x + y * 1j for x, pixel in enumerate(row) if pixel < 0.5]\n",
    "    for y, row in enumerate(reversed(data))\n",
    "]\n",
    "pts1 = sum(pts, [])\n",
    "plot(pts1, 200, 1)"
   ]
  },
  {
   "cell_type": "code",
   "execution_count": 29,
   "metadata": {},
   "outputs": [],
   "source": [
    "def trans2center(z_list):\n",
    "    pts_center = []\n",
    "    z_real = [z.real for z in z_list]\n",
    "    z_imag = [z.imag for z in z_list]\n",
    "    real_center = (max(z_real) - min(z_real)) / 2\n",
    "    imag_center = (max(z_imag) - min(z_imag)) / 2\n",
    "    for z in z_list:\n",
    "        z_real = z.real - real_center\n",
    "        z_imag = z.imag - imag_center\n",
    "        pts_center.append(z_real + z_imag*1j)\n",
    "\n",
    "    return pts_center"
   ]
  },
  {
   "cell_type": "code",
   "execution_count": 30,
   "metadata": {},
   "outputs": [],
   "source": [
    "pts2 = trans2center(pts1)\n",
    "plot(pts2, 200, 1)"
   ]
  },
  {
   "cell_type": "code",
   "execution_count": 31,
   "metadata": {},
   "outputs": [
    {
     "data": {
      "text/plain": [
       "3.141592653589793"
      ]
     },
     "execution_count": 31,
     "metadata": {},
     "output_type": "execute_result"
    }
   ],
   "source": [
    "# 파이썬에서 편각(argument)은 `cmath.phase()`함수를 이용해 구할 수 있다.\n",
    "import cmath\n",
    "\n",
    "cmath.phase(-1 + 0j)  # pi"
   ]
  },
  {
   "cell_type": "code",
   "execution_count": 32,
   "metadata": {},
   "outputs": [
    {
     "data": {
      "text/plain": [
       "(1.4142135623730951, 0.7853981633974483)"
      ]
     },
     "execution_count": 32,
     "metadata": {},
     "output_type": "execute_result"
    }
   ],
   "source": [
    "# 1+1i 의 극좌표 구하기\n",
    "# 첫 번째 값은 magnitude(복소수의 크기), 두 번째 값은 각도\n",
    "cmath.polar(1 + 1j)"
   ]
  },
  {
   "cell_type": "code",
   "execution_count": 33,
   "metadata": {},
   "outputs": [
    {
     "data": {
      "text/plain": [
       "(1.0000000000000002+1j)"
      ]
     },
     "execution_count": 33,
     "metadata": {},
     "output_type": "execute_result"
    }
   ],
   "source": [
    "# 극좌표를 이용해 복소수 구하기\n",
    "cmath.rect(1.4142135623730951, 0.7853981633974483)"
   ]
  },
  {
   "cell_type": "code",
   "execution_count": 34,
   "metadata": {},
   "outputs": [],
   "source": [
    "S = {\n",
    "    2 + 2j,\n",
    "    3 + 2j,\n",
    "    1.75 + 1j,\n",
    "    2 + 1j,\n",
    "    2.25 + 1j,\n",
    "    2.5 + 1j,\n",
    "    2.75 + 1j,\n",
    "    3 + 1j,\n",
    "    3.25 + 1j,\n",
    "}\n",
    "euler = cmath.exp(cmath.pi/4 * 1j)\n",
    "S_rad = {z * euler for z in S}\n",
    "plot(S_rad, 4)"
   ]
  },
  {
   "cell_type": "code",
   "execution_count": 35,
   "metadata": {},
   "outputs": [],
   "source": [
    "data = Image.open(\"resources/img01.png\")  # 이미지 파일 불러오기\n",
    "# data = data.convert('L')\n",
    "data = (\n",
    "    np.asarray(data, dtype=\"float32\") / 255\n",
    ")  # 이미지 파일을 np.asarray를 이용해 배열로 만들기\n",
    "data = data.tolist()  # 리스트로 변환 하기"
   ]
  },
  {
   "cell_type": "code",
   "execution_count": 36,
   "metadata": {},
   "outputs": [],
   "source": [
    "def rad_rotation(z_list):\n",
    "    euler = cmath.exp(cmath.pi/4 * 1j)\n",
    "    z_rad = [z * euler for z in z_list]\n",
    "    return z_rad"
   ]
  },
  {
   "cell_type": "code",
   "execution_count": 37,
   "metadata": {},
   "outputs": [],
   "source": [
    "pts = [\n",
    "    [x + y * 1j for x, pixel in enumerate(row) if pixel < 0.5]\n",
    "    for y, row in enumerate(reversed(data))\n",
    "]\n",
    "pts_org = sum(pts, [])\n",
    "pts_rad = rad_rotation(pts_org)\n",
    "plot(pts_rad, 200, 1)"
   ]
  },
  {
   "cell_type": "code",
   "execution_count": 38,
   "metadata": {},
   "outputs": [],
   "source": [
    "def scaling(z_list):\n",
    "    z_scaled = [z * 0.5 for z in z_list]\n",
    "    return z_scaled"
   ]
  },
  {
   "cell_type": "code",
   "execution_count": 39,
   "metadata": {},
   "outputs": [],
   "source": [
    "pts_trans = trans2center(pts_org)  # 이미지를 중심으로 평행이동\n",
    "pts_rad = rad_rotation(pts_trans)  # 이미지를 pi/4 만큼 회전\n",
    "pts_scaled = scaling(pts_rad)  # 이미지를 스케일링\n",
    "plot(pts_scaled, 200, 1)"
   ]
  },
  {
   "cell_type": "code",
   "execution_count": null,
   "metadata": {},
   "outputs": [],
   "source": []
  }
 ],
 "metadata": {
  "kernelspec": {
   "display_name": "Python 3",
   "language": "python",
   "name": "python3"
  },
  "language_info": {
   "codemirror_mode": {
    "name": "ipython",
    "version": 3
   },
   "file_extension": ".py",
   "mimetype": "text/x-python",
   "name": "python",
   "nbconvert_exporter": "python",
   "pygments_lexer": "ipython3",
   "version": "3.8.20"
  }
 },
 "nbformat": 4,
 "nbformat_minor": 2
}
