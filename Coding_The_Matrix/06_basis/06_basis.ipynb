{
 "cells": [
  {
   "cell_type": "code",
   "execution_count": 1,
   "metadata": {},
   "outputs": [],
   "source": [
    "%matplotlib inline\n",
    "import matplotlib.pyplot as plt\n",
    "import numpy as np\n",
    "from PIL import Image"
   ]
  },
  {
   "cell_type": "code",
   "execution_count": null,
   "metadata": {},
   "outputs": [],
   "source": [
    "# 이미지 파일 불러오기\n",
    "img = Image.open('./resources/img01.png')\n",
    "img = img.convert('L')\n",
    "img = np.asarray(img, dtype='float32')\n",
    "print(img.shape)  # (256 x 512) 이미지 행렬\n",
    "\n",
    "min_img_top10p = min(sorted(img.reshape(-1).tolist(), reverse=True)[:13108])  # = 92\n",
    "# k-sparse 이미지 행렬 만들기\n",
    "# 상위 10%를 제외한 나머지 값은 0으로 대체하기\n",
    "img_sparse = [pix  if pix >= min_img_top10p else 0 for pix in img.reshape(-1).tolist()]\n",
    "img_sparse = np.array(img_sparse)\n",
    "# 원래의 이미지 행렬로 바꿔주기\n",
    "img_sparse = img_sparse.reshape(256, -1)\n",
    "print(img_sparse.shape)"
   ]
  }
 ],
 "metadata": {
  "kernelspec": {
   "display_name": "Python 3",
   "language": "python",
   "name": "python3"
  },
  "language_info": {
   "codemirror_mode": {
    "name": "ipython",
    "version": 3
   },
   "file_extension": ".py",
   "mimetype": "text/x-python",
   "name": "python",
   "nbconvert_exporter": "python",
   "pygments_lexer": "ipython3",
   "version": "3.8.20"
  }
 },
 "nbformat": 4,
 "nbformat_minor": 2
}
