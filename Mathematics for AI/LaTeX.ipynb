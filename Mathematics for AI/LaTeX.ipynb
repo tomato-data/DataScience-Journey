{
 "cells": [
  {
   "cell_type": "markdown",
   "id": "aa4aac08",
   "metadata": {},
   "source": [
    "$$y = 2x + 1$$"
   ]
  },
  {
   "cell_type": "markdown",
   "id": "71fff813",
   "metadata": {},
   "source": [
    "$$y = x^3 + 2x^2 + x + 3$$"
   ]
  },
  {
   "cell_type": "markdown",
   "id": "0535e332",
   "metadata": {},
   "source": [
    "$$y = \\sqrt x$$"
   ]
  },
  {
   "cell_type": "markdown",
   "id": "27d2937a",
   "metadata": {},
   "source": [
    "$$y = \\sin x$$"
   ]
  },
  {
   "cell_type": "markdown",
   "id": "e33b85ef",
   "metadata": {},
   "source": [
    "$$y = \\frac{17}{24}$$"
   ]
  },
  {
   "cell_type": "markdown",
   "id": "16d43403",
   "metadata": {},
   "source": [
    "$$y = \\sum_{k=1}^n a_k$$"
   ]
  },
  {
   "cell_type": "markdown",
   "id": "382f1955",
   "metadata": {},
   "source": [
    "$$y = \\prod_{k=1}^n a_k$$"
   ]
  },
  {
   "cell_type": "markdown",
   "id": "bcafad62",
   "metadata": {},
   "source": [
    "$$y = x^3 + \\sqrt x + \\frac{a_{ij}}{b_{ij}^4} - \\sum_{k=1}^n a_k$$"
   ]
  },
  {
   "cell_type": "markdown",
   "id": "a55853f9",
   "metadata": {},
   "source": [
    "$$\\lim_{x \\to \\0} y = \\lim_{x \\to \\0} (x^2 + 1) = 1$$"
   ]
  },
  {
   "cell_type": "markdown",
   "id": "3d242e85",
   "metadata": {},
   "source": [
    "$$\\lim_{x \\to \\0} y = \\lim_{x \\to \\0} (x^2 + 1) = 1$$"
   ]
  },
  {
   "cell_type": "code",
   "execution_count": null,
   "id": "466446d3",
   "metadata": {},
   "outputs": [],
   "source": []
  }
 ],
 "metadata": {
  "kernelspec": {
   "display_name": "Python 3 (ipykernel)",
   "language": "python",
   "name": "python3"
  },
  "language_info": {
   "codemirror_mode": {
    "name": "ipython",
    "version": 3
   },
   "file_extension": ".py",
   "mimetype": "text/x-python",
   "name": "python",
   "nbconvert_exporter": "python",
   "pygments_lexer": "ipython3",
   "version": "3.9.13"
  }
 },
 "nbformat": 4,
 "nbformat_minor": 5
}
