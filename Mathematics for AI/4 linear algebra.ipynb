{
 "cells": [
  {
   "cell_type": "code",
   "execution_count": 2,
   "id": "a4c883da",
   "metadata": {},
   "outputs": [
    {
     "name": "stdout",
     "output_type": "stream",
     "text": [
      "[1 2 3]\n",
      "[-2.4   0.25 -1.3   1.8   0.61]\n"
     ]
    }
   ],
   "source": [
    "import numpy as np\n",
    "\n",
    "# vectors\n",
    "a = np.array([1, 2, 3])\n",
    "print(a)\n",
    "\n",
    "b = np.array([-2.4, 0.25, -1.3, 1.8, 0.61])\n",
    "print(b)"
   ]
  },
  {
   "cell_type": "code",
   "execution_count": 3,
   "id": "865d270e",
   "metadata": {},
   "outputs": [
    {
     "name": "stdout",
     "output_type": "stream",
     "text": [
      "[[1 2 3]\n",
      " [4 5 6]]\n"
     ]
    }
   ],
   "source": [
    "a = np.array([[1, 2, 3],\n",
    "             [4, 5, 6]])\n",
    "print(a)"
   ]
  },
  {
   "cell_type": "code",
   "execution_count": 8,
   "id": "07c63cb2",
   "metadata": {},
   "outputs": [
    {
     "name": "stdout",
     "output_type": "stream",
     "text": [
      "[[[0 1 2 3]\n",
      "  [2 3 4 5]\n",
      "  [4 5 6 7]]\n",
      "\n",
      " [[1 2 3 4]\n",
      "  [3 4 5 6]\n",
      "  [5 6 7 8]]]\n"
     ]
    }
   ],
   "source": [
    "# 행렬 2개 or more => 텐서\n",
    "a = np.array([[[0, 1, 2, 3],\n",
    "              [2, 3, 4, 5],\n",
    "              [4, 5, 6, 7]],\n",
    "             [[1, 2, 3, 4],\n",
    "             [3, 4, 5, 6],\n",
    "             [5, 6, 7, 8]]])\n",
    "\n",
    "print(a)"
   ]
  },
  {
   "cell_type": "code",
   "execution_count": 9,
   "id": "205f43bb",
   "metadata": {},
   "outputs": [
    {
     "name": "stdout",
     "output_type": "stream",
     "text": [
      "10\n",
      "10\n"
     ]
    }
   ],
   "source": [
    "# 내적\n",
    "a = np.array([1, 2, 3])\n",
    "b = np.array([3, 2, 1])\n",
    "\n",
    "print(np.dot(a, b))\n",
    "print(np.sum(a * b))"
   ]
  },
  {
   "cell_type": "code",
   "execution_count": 11,
   "id": "36663c14",
   "metadata": {},
   "outputs": [
    {
     "name": "stdout",
     "output_type": "stream",
     "text": [
      "2.0\n",
      "4.0\n"
     ]
    }
   ],
   "source": [
    "# 놈\n",
    "a = np.array([1, 1, -1, -1])\n",
    "\n",
    "print(np.linalg.norm(a))\n",
    "print(np.linalg.norm(a, 1))"
   ]
  },
  {
   "cell_type": "code",
   "execution_count": 12,
   "id": "bdd1dae9",
   "metadata": {},
   "outputs": [
    {
     "name": "stdout",
     "output_type": "stream",
     "text": [
      "[[ 6  3]\n",
      " [12  6]]\n"
     ]
    }
   ],
   "source": [
    "# 행렬 곱\n",
    "a = np.array([[0, 1, 2],\n",
    "             [1, 2, 3]])\n",
    "\n",
    "b = np.array([[2, 1],\n",
    "             [2, 1],\n",
    "             [2, 1]])\n",
    "\n",
    "print(np.dot(a, b))"
   ]
  },
  {
   "cell_type": "code",
   "execution_count": 14,
   "id": "c614db75",
   "metadata": {},
   "outputs": [
    {
     "name": "stdout",
     "output_type": "stream",
     "text": [
      "[[ 0  1  4]\n",
      " [ 6  0  5]\n",
      " [ 6 14  0]]\n"
     ]
    }
   ],
   "source": [
    "# 요소별 곱\n",
    "a = np.array([[0, 1, 2],\n",
    "             [3, 4, 5],\n",
    "             [6, 7, 8]])\n",
    "\n",
    "b = np.array([[0, 1, 2],\n",
    "             [2, 0, 1],\n",
    "             [1, 2, 0]])\n",
    "\n",
    "print(a * b)"
   ]
  },
  {
   "cell_type": "code",
   "execution_count": 15,
   "id": "e87bebe3",
   "metadata": {},
   "outputs": [
    {
     "name": "stdout",
     "output_type": "stream",
     "text": [
      "[[1 4]\n",
      " [2 5]\n",
      " [3 6]]\n"
     ]
    }
   ],
   "source": [
    "# 전치\n",
    "\n",
    "a = np.array([[1, 2, 3],\n",
    "             [4, 5, 6]])\n",
    "\n",
    "print(a.T)"
   ]
  },
  {
   "cell_type": "code",
   "execution_count": 16,
   "id": "c2b5d69a",
   "metadata": {},
   "outputs": [
    {
     "name": "stdout",
     "output_type": "stream",
     "text": [
      "[[ 5  8]\n",
      " [ 8 14]]\n"
     ]
    }
   ],
   "source": [
    "a = np.array([[0, 1, 2],\n",
    "             [1, 2, 3]])\n",
    "\n",
    "b = np.array([[0, 1, 2],\n",
    "             [1, 2, 3]])\n",
    "\n",
    "# 전치 시켜서 행과 열을 맞춰준 뒤 행렬곱\n",
    "print(np.dot(a, b.T))"
   ]
  },
  {
   "cell_type": "code",
   "execution_count": 18,
   "id": "096b7d18",
   "metadata": {},
   "outputs": [
    {
     "name": "stdout",
     "output_type": "stream",
     "text": [
      "[[1. 0.]\n",
      " [0. 1.]]\n",
      "[[1. 0. 0.]\n",
      " [0. 1. 0.]\n",
      " [0. 0. 1.]]\n",
      "[[1. 0. 0. 0.]\n",
      " [0. 1. 0. 0.]\n",
      " [0. 0. 1. 0.]\n",
      " [0. 0. 0. 1.]]\n"
     ]
    }
   ],
   "source": [
    "# 단위행렬\n",
    "print(np.eye(2))\n",
    "print(np.eye(3))\n",
    "print(np.eye(4))"
   ]
  },
  {
   "cell_type": "code",
   "execution_count": 19,
   "id": "5a0311d6",
   "metadata": {},
   "outputs": [
    {
     "name": "stdout",
     "output_type": "stream",
     "text": [
      "-2.0000000000000004\n",
      "0.0\n"
     ]
    }
   ],
   "source": [
    "# 행렬식\n",
    "a = np.array([[1, 2],\n",
    "             [3, 4]])\n",
    "\n",
    "print(np.linalg.det(a))\n",
    "\n",
    "b = np.array([[1, 2],\n",
    "             [0, 0]])\n",
    "\n",
    "print(np.linalg.det(b))"
   ]
  },
  {
   "cell_type": "code",
   "execution_count": 20,
   "id": "81ca7559",
   "metadata": {},
   "outputs": [
    {
     "name": "stdout",
     "output_type": "stream",
     "text": [
      "[[-2.   1. ]\n",
      " [ 1.5 -0.5]]\n"
     ]
    }
   ],
   "source": [
    "# 역행렬\n",
    "a = np.array([[1, 2],\n",
    "             [3, 4]])\n",
    "\n",
    "print(np.linalg.inv(a))"
   ]
  },
  {
   "cell_type": "code",
   "execution_count": 3,
   "id": "4000924d",
   "metadata": {},
   "outputs": [
    {
     "data": {
      "image/png": "[encoded data removed]",
      "text/plain": [
       "<Figure size 640x480 with 1 Axes>"
      ]
     },
     "metadata": {},
     "output_type": "display_data"
    }
   ],
   "source": [
    "import matplotlib.pyplot as plt\n",
    "\n",
    "def arrow(start, size, color):\n",
    "    plt.quiver(start[0], start[1], size[0], size[1], angles = \"xy\", scale_units = \"xy\", scale = 1, color = color)\n",
    "    \n",
    "s = np.array([0, 0])\n",
    "a = np.array([2, 3])\n",
    "arrow(s, a, color = \"black\")\n",
    "\n",
    "plt.xlim([-3, 3]) # x domain\n",
    "plt.ylim([-3, 3]) # y domain\n",
    "plt.xlabel(\"x\", size = 14)\n",
    "plt.ylabel(\"y\", size = 14)\n",
    "plt.grid()\n",
    "plt.gca().set_aspect(\"equal\") # 가로세로비를 같게\n",
    "plt.show()"
   ]
  },
  {
   "cell_type": "code",
   "execution_count": 24,
   "id": "7b7150bd",
   "metadata": {},
   "outputs": [
    {
     "data": {
      "image/png": "[encoded data removed]",
      "text/plain": [
       "<Figure size 640x480 with 1 Axes>"
      ]
     },
     "metadata": {},
     "output_type": "display_data"
    }
   ],
   "source": [
    "def arrow(start, size, color):\n",
    "    plt.quiver(start[0], start[1], size[0], size[1], angles = \"xy\", scale_units = \"xy\", scale = 1, color = color)\n",
    "    \n",
    "a = np.array([2, 3])\n",
    "\n",
    "A = np.array([[2, -1],\n",
    "             [2, -2]])\n",
    "\n",
    "b = np.dot(A, a) # 선형 변환\n",
    "\n",
    "s = np.array([0, 0]) # 원점\n",
    "\n",
    "arrow(s, a, color = \"black\")\n",
    "arrow(s, b, color = \"blue\")\n",
    "\n",
    "plt.xlim([-3, 3]) # x domain\n",
    "plt.ylim([-3, 3]) # y domain\n",
    "plt.xlabel(\"x\", size = 14)\n",
    "plt.ylabel(\"y\", size = 14)\n",
    "plt.grid()\n",
    "plt.gca().set_aspect(\"equal\") # 가로세로비를 같게\n",
    "plt.show()"
   ]
  },
  {
   "cell_type": "code",
   "execution_count": 1,
   "id": "5d3cb3ba",
   "metadata": {},
   "outputs": [
    {
     "data": {
      "image/png": "[encoded data removed]",
      "text/plain": [
       "<Figure size 640x480 with 1 Axes>"
      ]
     },
     "metadata": {},
     "output_type": "display_data"
    }
   ],
   "source": [
    "import numpy as np\n",
    "import matplotlib.pyplot as plt\n",
    "\n",
    "a = np.array([2, 3])\n",
    "e_x = np.array([1, 0])\n",
    "e_y = np.array([0, 1])\n",
    "\n",
    "def arrow(start, size, color):\n",
    "    plt.quiver(start[0], start[1], size[0], size[1], angles = \"xy\", scale_units = \"xy\", scale = 1, color = color)\n",
    "\n",
    "s = np.array([0, 0])\n",
    "\n",
    "arrow(s, a, color=\"blue\")\n",
    "arrow(s, e_x, color=\"black\")\n",
    "arrow(s, e_y, color=\"black\")\n",
    "\n",
    "plt.xlim([-3, 3])\n",
    "plt.ylim([-3, 3])\n",
    "plt.xlabel(\"x\", size = 14)\n",
    "plt.ylabel(\"y\", size = 14)\n",
    "plt.grid()\n",
    "plt.gca().set_aspect(\"equal\") # 가로세로비를 같게\n",
    "plt.show()"
   ]
  },
  {
   "cell_type": "code",
   "execution_count": 2,
   "id": "bf75cfbc",
   "metadata": {},
   "outputs": [
    {
     "data": {
      "image/png": "[encoded data removed]",
      "text/plain": [
       "<Figure size 640x480 with 1 Axes>"
      ]
     },
     "metadata": {},
     "output_type": "display_data"
    }
   ],
   "source": [
    "a = np.array([1, 3]) # 변환 전의 벡터\n",
    "A = np.array([[1, -1],\n",
    "             [2, -1]])\n",
    "\n",
    "b = np.dot(A, a)\n",
    "\n",
    "def arrow(start, size, color):\n",
    "    plt.quiver(start[0], start[1], size[0], size[1], angles = \"xy\", scale_units = \"xy\", scale = 1, color = color)\n",
    "\n",
    "s = np.array([0, 0])\n",
    "\n",
    "arrow(s, a, color = \"black\")\n",
    "arrow(s, b, color = \"blue\")\n",
    "    \n",
    "plt.xlim([-3, 3]) # x domain\n",
    "plt.ylim([-3, 3]) # y domain\n",
    "plt.xlabel(\"x\", size = 14)\n",
    "plt.ylabel(\"y\", size = 14)\n",
    "plt.grid()\n",
    "plt.gca().set_aspect(\"equal\") # 가로세로비를 같게\n",
    "plt.show()"
   ]
  },
  {
   "cell_type": "code",
   "execution_count": 6,
   "id": "2ff241e1",
   "metadata": {},
   "outputs": [
    {
     "name": "stdout",
     "output_type": "stream",
     "text": [
      "[2. 5.] [[-0.70710678 -0.4472136 ]\n",
      " [ 0.70710678 -0.89442719]]\n"
     ]
    },
    {
     "data": {
      "image/png": "[encoded data removed]",
      "text/plain": [
       "<Figure size 640x480 with 1 Axes>"
      ]
     },
     "metadata": {},
     "output_type": "display_data"
    }
   ],
   "source": [
    "# 고윳값과 고유벡터 (단위벡터)\n",
    "a = np.array([[3, 1],\n",
    "             [2, 4]])\n",
    "\n",
    "ev = np.linalg.eig(a)\n",
    "\n",
    "print(ev[0], ev[1])\n",
    "\n",
    "def arrow(start, size, color):\n",
    "    plt.quiver(start[0], start[1], size[0], size[1], angles = \"xy\", scale_units = \"xy\", scale = 1, color = color)\n",
    "\n",
    "s = np.array([0, 0])\n",
    "\n",
    "arrow(s, ev[1][0], color = \"black\")\n",
    "arrow(s, ev[1][1], color = \"blue\")\n",
    "\n",
    "plt.xlim([-3, 3]) # x domain\n",
    "plt.ylim([-3, 3]) # y domain\n",
    "plt.xlabel(\"x\", size = 14)\n",
    "plt.ylabel(\"y\", size = 14)\n",
    "plt.grid()\n",
    "plt.gca().set_aspect(\"equal\") # 가로세로비를 같게\n",
    "plt.show()"
   ]
  },
  {
   "cell_type": "code",
   "execution_count": 6,
   "id": "704cd0a3",
   "metadata": {},
   "outputs": [
    {
     "name": "stdout",
     "output_type": "stream",
     "text": [
      "1.0\n",
      "-1.0\n"
     ]
    }
   ],
   "source": [
    "def cos_sim(vec_1, vec_2):\n",
    "    return np.dot(vec_1, vec_2) / (np.linalg.norm(vec_1) * np.linalg.norm(vec_2))\n",
    "\n",
    "a = np.array([2, 2, 2, 2])\n",
    "b = np.array([1, 1, 1, 1]) # same direcation as a\n",
    "c = np.array([-1, -1, -1, -1]) # opposite directaion as a\n",
    "\n",
    "print(cos_sim(a, b))\n",
    "print(cos_sim(a, c))"
   ]
  },
  {
   "cell_type": "code",
   "execution_count": null,
   "id": "a0a81731",
   "metadata": {},
   "outputs": [],
   "source": []
  }
 ],
 "metadata": {
  "kernelspec": {
   "display_name": "Python 3 (ipykernel)",
   "language": "python",
   "name": "python3"
  },
  "language_info": {
   "codemirror_mode": {
    "name": "ipython",
    "version": 3
   },
   "file_extension": ".py",
   "mimetype": "text/x-python",
   "name": "python",
   "nbconvert_exporter": "python",
   "pygments_lexer": "ipython3",
   "version": "3.9.13"
  }
 },
 "nbformat": 4,
 "nbformat_minor": 5
}
