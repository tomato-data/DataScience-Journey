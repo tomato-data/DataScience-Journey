{
 "cells": [
  {
   "cell_type": "code",
   "execution_count": null,
   "metadata": {},
   "outputs": [],
   "source": [
    "%%bash\n",
    "\n",
    "wget -O keywords.py https://raw.githubusercontent.com/Kaggle/kaggle-environments/master/kaggle_environments/envs/llm_20_questions/keywords.py"
   ]
  },
  {
   "cell_type": "code",
   "execution_count": 1,
   "metadata": {},
   "outputs": [],
   "source": [
    "import json\n",
    "import pandas as pd\n",
    "import numpy as np\n",
    "\n",
    "\n",
    "from keywords import KEYWORDS_JSON\n",
    "\n",
    "def create_keyword_df(KEYWORDS_JSON):\n",
    "    json_data = json.loads(KEYWORDS_JSON)\n",
    "\n",
    "    keyword_list = []\n",
    "    category_list = []\n",
    "    alts_list = []\n",
    "\n",
    "    for i in range(len(json_data)):\n",
    "        for j in range(len(json_data[i]['words'])):\n",
    "            keyword = json_data[i]['words'][j]['keyword']\n",
    "            keyword_list.append(keyword)\n",
    "            category_list.append(json_data[i]['category'])\n",
    "            alts_list.append(json_data[i]['words'][j]['alts'])\n",
    "\n",
    "    data_pd = pd.DataFrame(columns=['keyword', 'category', 'alts'])\n",
    "    data_pd['keyword'] = keyword_list\n",
    "    data_pd['category'] = category_list\n",
    "    data_pd['alts'] = alts_list\n",
    "    \n",
    "    return data_pd\n"
   ]
  },
  {
   "cell_type": "code",
   "execution_count": 2,
   "metadata": {},
   "outputs": [
    {
     "name": "stdout",
     "output_type": "stream",
     "text": [
      "['afghanistan', 'albania', 'algeria', 'andorra', 'angola']\n"
     ]
    }
   ],
   "source": [
    "keyword_df = create_keyword_df(KEYWORDS_JSON)\n",
    "\n",
    "place_list = keyword_df[keyword_df['category'] == 'place']['keyword'].to_list()\n",
    "things_list = keyword_df[keyword_df['category'] == 'thing']['keyword'].to_list()\n",
    "\n",
    "print(place_list[:5])"
   ]
  },
  {
   "cell_type": "code",
   "execution_count": 3,
   "metadata": {},
   "outputs": [],
   "source": [
    "place_questions = [\n",
    "    \"is it a country?\",\n",
    "    \"is it a city?\",\n",
    "    \"is it a natural feature?\",\n",
    "]\n",
    "\n",
    "things_questions = [\n",
    "    \"is it a living thing?\",   \n",
    "    \"is it edible?\",           \n",
    "    \"is it something that can be held in your hand?\",\n",
    "    \"Does it require electricity to operate?\",\n",
    "    # \"Would the keyword be included in the broad category of [Group]?\",\n",
    "]\n"
   ]
  },
  {
   "cell_type": "code",
   "execution_count": 4,
   "metadata": {},
   "outputs": [],
   "source": [
    "from openai import OpenAI\n",
    "import pandas as pd\n",
    "\n",
    "\n",
    "class KeywordClassifier:\n",
    "    def __init__(self, keywords: list, csv_path: str = None):\n",
    "        self.client = OpenAI()\n",
    "        self.keywords = keywords\n",
    "        self.csv_path = csv_path\n",
    "        if self.csv_path:\n",
    "            self.df = pd.read_csv(csv_path)\n",
    "        else:\n",
    "            self.df = pd.DataFrame(index=keywords)\n",
    "            self.csv_path = \"mapped_keywords.csv\"\n",
    "            \n",
    "        print(\"Keyword Classifier Initialized\")\n",
    "        self.preview()\n",
    "\n",
    "    def _classify(self, question, keyword):\n",
    "        response = self.client.chat.completions.create(\n",
    "            model=\"gpt-4o-mini\",\n",
    "            messages=[\n",
    "                {\n",
    "                    \"role\": \"system\",\n",
    "                    \"content\": \"You are a helpful assistant. Your goal is to classify the keyword to the question. Answer only with 'yes' or 'no'.\",\n",
    "                },\n",
    "                {\"role\": \"user\", \"content\": f\"Keyword: {keyword} \\nQuestion: {question}\"},\n",
    "            ],\n",
    "        )\n",
    "        message = response.choices[0].message.content.lower()\n",
    "\n",
    "        if \"yes\" in message:\n",
    "            return \"yes\"\n",
    "        else:\n",
    "            return \"no\"\n",
    "        \n",
    "    def preview(self):\n",
    "        print(\"Printing first 3 rows of the dataframe\")\n",
    "        print(self.df.head(3))\n",
    "        \n",
    "    def update(self, questions: list):\n",
    "        added_question_count = 0\n",
    "        for question in questions:\n",
    "            if question in self.df.columns:\n",
    "                continue\n",
    "            \n",
    "            added_question_count += 1\n",
    "            \n",
    "            for keyword in self.df.index:\n",
    "                self.df.loc[keyword, question] = self._classify(question, keyword)\n",
    "                    \n",
    "        print(f\"Added {added_question_count} questions\")\n",
    "        self.df.to_csv(self.csv_path)\n",
    "        print(f\"Saved to {self.csv_path}\")\n",
    "        "
   ]
  },
  {
   "cell_type": "code",
   "execution_count": 5,
   "metadata": {},
   "outputs": [
    {
     "name": "stdout",
     "output_type": "stream",
     "text": [
      "Keyword Classifier Initialized\n",
      "Printing first 3 rows of the dataframe\n",
      "Empty DataFrame\n",
      "Columns: []\n",
      "Index: [afghanistan, albania, algeria]\n",
      "Added 2 questions\n",
      "Saved to mapped_keywords.csv\n",
      "Printing first 3 rows of the dataframe\n",
      "            is it a country? is it a city?\n",
      "afghanistan              yes            no\n",
      "albania                  yes            no\n",
      "algeria                  yes            no\n",
      "Added 1 questions\n",
      "Saved to mapped_keywords.csv\n",
      "Printing first 3 rows of the dataframe\n",
      "            is it a country? is it a city? is it a natural feature?\n",
      "afghanistan              yes            no                       no\n",
      "albania                  yes            no                       no\n",
      "algeria                  yes            no                       no\n"
     ]
    }
   ],
   "source": [
    "place_list = place_list[:3]\n",
    "place_questions_first = place_questions[:2]\n",
    "place_questions_second = place_questions[2:]\n",
    "\n",
    "classifier = KeywordClassifier(keywords=place_list)\n",
    "\n",
    "classifier.update(place_questions_first)\n",
    "classifier.preview()\n",
    "\n",
    "classifier.update(place_questions_second)\n",
    "classifier.preview()"
   ]
  },
  {
   "cell_type": "code",
   "execution_count": null,
   "metadata": {},
   "outputs": [],
   "source": []
  }
 ],
 "metadata": {
  "kernelspec": {
   "display_name": "slm",
   "language": "python",
   "name": "slm"
  },
  "language_info": {
   "codemirror_mode": {
    "name": "ipython",
    "version": 3
   },
   "file_extension": ".py",
   "mimetype": "text/x-python",
   "name": "python",
   "nbconvert_exporter": "python",
   "pygments_lexer": "ipython3",
   "version": "3.12.3"
  }
 },
 "nbformat": 4,
 "nbformat_minor": 2
}
